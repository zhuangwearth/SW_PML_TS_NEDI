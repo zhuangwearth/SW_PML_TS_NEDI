{
 "cells": [
  {
   "cell_type": "markdown",
   "metadata": {},
   "source": [
    "# Calculate NEDI with Penman approach"
   ]
  },
  {
   "cell_type": "code",
   "execution_count": 65,
   "metadata": {},
   "outputs": [],
   "source": [
    "# load input data of daily flux and lai\n",
    "workdir = 'D:/Field/NATT/modeling_et_afm_v16b/' # this maybe need change according where you place the directory of modeling_et\n",
    "edata <- read.csv(file= paste0(workdir, 'data/allsite6_flux_NEDI.csv'),head=T)"
   ]
  },
  {
   "cell_type": "code",
   "execution_count": 66,
   "metadata": {},
   "outputs": [],
   "source": [
    "# Function calculating potential ET with PT approach\n",
    "F_PET_PT <- function (driver)  \n",
    "  {  \n",
    "  # driver: rn, rg, ta\n",
    "  day_length = driver$day_length   # number of hours in a whole day\n",
    "  rg  = driver$rg          # ground heat flux, W/m2    \n",
    "  rn  = driver$rn          # net radiation, W/m2\n",
    "  ta  = driver$ta          # air temperature    \n",
    "  ## slope of the relationship between saturated vapor pressure and temperature\n",
    "  delta   = 17.081 * 234.175 * (6.1078 * exp(17.081 * ta / (ta + 234.175))) / (ta + 234.175)^2 / 10 ## unit kPA / K\n",
    "  epsilon = delta/gamma\n",
    "  ETp  = epsilon * (rn - rg) / (epsilon + 1)  # unit W/m2 \n",
    "  scale_day  = day_length * 3600 / 2.45 * 10^-6 # transform to unit mm/d\n",
    "  ETp = 1.26 * ETp * scale_day }"
   ]
  },
  {
   "cell_type": "code",
   "execution_count": 37,
   "metadata": {},
   "outputs": [],
   "source": [
    "# Function calculating potential ET (Penman approach, Shuttleworth 1993)\n",
    "F_PET_PM <- function (driver)  \n",
    "  {  \n",
    "  # driver: rn, rg, ta\n",
    "  day_length = driver$day_length   # number of hours in a whole day\n",
    "  rg  = driver$rg          # ground heat flux, W/m2    \n",
    "  rn  = driver$rn          # net radiation, W/m2\n",
    "  ta  = driver$ta          # air temperature   \n",
    "  u   = driver$u\n",
    "  vpd = driver$vpd\n",
    "  ## slope of the relationship between saturated vapor pressure and temperature\n",
    "  delta   = 17.081 * 234.175 * (6.1078 * exp(17.081 * ta / (ta + 234.175))) / (ta + 234.175)^2 / 10 ## unit kPA / K\n",
    "  epsilon = delta/gamma\n",
    "  ETp  = epsilon * (rn - rg) / (epsilon + 1)  +  6.43 * (1 + 0.536*u) *vpd  / (epsilon + 1)   # unit W/m2 \n",
    "  scale_day  = day_length * 3600 / 2.45 * 10^-6 # transform to unit mm/d\n",
    "  ETp = ETp * scale_day }"
   ]
  },
  {
   "cell_type": "code",
   "execution_count": 42,
   "metadata": {},
   "outputs": [],
   "source": [
    "# calculate potential ET\n",
    "gamma =\t0.067\n",
    "#edata$PET_PT = F_PET_PT(edata) # this is daytime PET\n",
    "edata$PET = F_PET_PM(edata) # this is daytime PET"
   ]
  },
  {
   "cell_type": "code",
   "execution_count": 44,
   "metadata": {},
   "outputs": [
    {
     "data": {
      "text/plain": [
       "  site              date             fe            fe_qcflag      \n",
       " asm:2616   2010-09-03:    6   Min.   : -6.812   Min.   :0.00000  \n",
       " dap:2078   2010-09-04:    6   1st Qu.: 54.860   1st Qu.:0.00000  \n",
       " das:3593   2010-09-05:    6   Median :116.878   Median :0.04545  \n",
       " dry:3215   2010-09-06:    6   Mean   :122.813   Mean   :0.24187  \n",
       " how:5811   2010-09-07:    6   3rd Qu.:181.502   3rd Qu.:0.30769  \n",
       " stp:3311   2010-09-08:    6   Max.   :385.323   Max.   :1.00000  \n",
       "            (Other)   :20588                                      \n",
       "       rg               fh               rn               fsd        \n",
       " Min.   :-38.22   Min.   :-41.13   Min.   : -8.607   Min.   : 35.36  \n",
       " 1st Qu.: 24.79   1st Qu.: 74.53   1st Qu.:279.329   1st Qu.:463.14  \n",
       " Median : 37.45   Median :118.97   Median :324.618   Median :517.16  \n",
       " Mean   : 37.86   Mean   :122.60   Mean   :325.285   Mean   :504.50  \n",
       " 3rd Qu.: 50.60   3rd Qu.:167.22   3rd Qu.:377.248   3rd Qu.:571.45  \n",
       " Max.   :123.27   Max.   :339.20   Max.   :585.776   Max.   :731.77  \n",
       "                                                                     \n",
       "      swc                ta             ustar             vpd          \n",
       " Min.   :0.01111   Min.   : 7.752   Min.   :0.1016   Min.   :-0.06168  \n",
       " 1st Qu.:0.03942   1st Qu.:26.861   1st Qu.:0.3294   1st Qu.: 1.62549  \n",
       " Median :0.06648   Median :29.173   Median :0.4210   Median : 2.18683  \n",
       " Mean   :0.08577   Mean   :28.628   Mean   :0.4352   Mean   : 2.25132  \n",
       " 3rd Qu.:0.11276   3rd Qu.:31.128   3rd Qu.:0.5296   3rd Qu.: 2.77641  \n",
       " Max.   :0.79147   Max.   :39.166   Max.   :1.2111   Max.   : 6.26844  \n",
       "                                                                       \n",
       "       u             et_ob           day_length        precip       \n",
       " Min.   :0.000   Min.   :-0.1212   Min.   : 1.50   Min.   :  0.000  \n",
       " 1st Qu.:1.681   1st Qu.: 0.9418   1st Qu.:11.50   1st Qu.:  0.000  \n",
       " Median :2.177   Median : 2.0233   Median :11.50   Median :  0.000  \n",
       " Mean   :2.394   Mean   : 2.1587   Mean   :11.77   Mean   :  3.099  \n",
       " 3rd Qu.:2.864   3rd Qu.: 3.2050   3rd Qu.:12.00   3rd Qu.:  0.200  \n",
       " Max.   :7.888   Max.   : 6.8638   Max.   :24.00   Max.   :194.564  \n",
       "                                                                    \n",
       "      lai            lai_tree        lai_grass            ebr          \n",
       " Min.   :0.1723   Min.   :0.0000   Min.   :0.00000   Min.   :-10.9664  \n",
       " 1st Qu.:0.7465   1st Qu.:0.0000   1st Qu.:0.05983   1st Qu.:  0.7821  \n",
       " Median :1.0052   Median :0.8273   Median :0.34323   Median :  0.8503  \n",
       " Mean   :1.1144   Mean   :0.6550   Mean   :0.45946   Mean   :  0.8794  \n",
       " 3rd Qu.:1.4931   3rd Qu.:1.0413   3rd Qu.:0.66580   3rd Qu.:  0.9274  \n",
       " Max.   :3.6908   Max.   :1.5037   Max.   :3.69083   Max.   : 80.5515  \n",
       "                                                                       \n",
       "     fe_cor           fh_cor         et_ob_cor            PET         \n",
       " Min.   :-17.90   Min.   :-130.5   Min.   :-0.2893   Min.   :-0.1089  \n",
       " 1st Qu.: 63.44   1st Qu.:  88.5   1st Qu.: 1.0850   1st Qu.: 3.2018  \n",
       " Median :136.32   Median : 135.8   Median : 2.3282   Median : 3.9559  \n",
       " Mean   :143.69   Mean   : 143.7   Mean   : 2.5069   Mean   : 3.9951  \n",
       " 3rd Qu.:216.37   3rd Qu.: 194.6   3rd Qu.: 3.7862   3rd Qu.: 4.8014  \n",
       " Max.   :479.26   Max.   : 408.1   Max.   : 9.0430   Max.   : 8.4355  \n",
       "                                                                      \n",
       "   NEDI_lag0         NEDI_lag30     \n",
       " Min.   :-0.6946   Min.   :-0.7565  \n",
       " 1st Qu.:-0.2893   1st Qu.:-0.3039  \n",
       " Median :-0.2131   Median :-0.2178  \n",
       " Mean   :-0.1363   Mean   :-0.1464  \n",
       " 3rd Qu.:-0.0553   3rd Qu.:-0.0384  \n",
       " Max.   : 1.0000   Max.   : 1.0000  \n",
       " NA's   :174       NA's   :354      "
      ]
     },
     "metadata": {},
     "output_type": "display_data"
    }
   ],
   "source": [
    "summary(edata)"
   ]
  },
  {
   "cell_type": "code",
   "execution_count": 41,
   "metadata": {},
   "outputs": [
    {
     "data": {
      "image/png": "[encoded data removed]",
      "text/plain": [
       "plot without title"
      ]
     },
     "metadata": {},
     "output_type": "display_data"
    }
   ],
   "source": [
    "with(edata, plot(PET, PET_PM))\n",
    "# PET is calculated with PT approach"
   ]
  },
  {
   "cell_type": "markdown",
   "metadata": {},
   "source": [
    "## Calculate NEDI"
   ]
  },
  {
   "cell_type": "markdown",
   "metadata": {},
   "source": [
    "### data prepare: Precip and PET agregate 30days sum"
   ]
  },
  {
   "cell_type": "code",
   "execution_count": 45,
   "metadata": {},
   "outputs": [],
   "source": [
    "nsite = c('how', 'dap', 'das', 'dry', 'stp','asm')\n",
    "edata$precip30d = NA\n",
    "edata$PET30d    = NA\n",
    "name_cols = c('site', 'date', 'precip', 'PET', 'precip30d', 'PET30d')\n",
    "\n",
    "tmps = data.frame(matrix(NA, 1, length(name_cols) ))\n",
    "colnames(tmps) = name_cols\n",
    "for (i in unique(nsite))    \n",
    "    {\n",
    "     tmp = subset(edata, site== i , select = name_cols)\n",
    "\n",
    "     for (iday in seq(30, length(tmp$date)))\n",
    "         {\n",
    "          tmp[iday,]$precip30d = sum(tmp[(iday-29):iday, ]$precip)\n",
    "          tmp[iday,]$PET30d    = sum(tmp[(iday-29):iday, ]$PET_PM)\n",
    "         }\n",
    "     tmps = rbind(tmps, tmps = tmp) \n",
    "     }     "
   ]
  },
  {
   "cell_type": "code",
   "execution_count": 46,
   "metadata": {},
   "outputs": [
    {
     "data": {
      "text/plain": [
       "     site               date               precip             PET         \n",
       " Length:20625       Length:20625       Min.   :  0.000   Min.   :-0.1089  \n",
       " Class :character   Class :character   1st Qu.:  0.000   1st Qu.: 3.2018  \n",
       " Mode  :character   Mode  :character   Median :  0.000   Median : 3.9559  \n",
       "                                       Mean   :  3.099   Mean   : 3.9951  \n",
       "                                       3rd Qu.:  0.200   3rd Qu.: 4.8014  \n",
       "                                       Max.   :194.564   Max.   : 8.4355  \n",
       "                                       NA's   :1         NA's   :1        \n",
       "   precip30d          PET30d   \n",
       " Min.   :  0.00   Min.   :0    \n",
       " 1st Qu.:  0.00   1st Qu.:0    \n",
       " Median : 20.49   Median :0    \n",
       " Mean   : 93.00   Mean   :0    \n",
       " 3rd Qu.:144.60   3rd Qu.:0    \n",
       " Max.   :776.00   Max.   :0    \n",
       " NA's   :175      NA's   :175  "
      ]
     },
     "metadata": {},
     "output_type": "display_data"
    }
   ],
   "source": [
    "summary(tmps)"
   ]
  },
  {
   "cell_type": "code",
   "execution_count": 47,
   "metadata": {},
   "outputs": [],
   "source": [
    "# Get 30 days accumlated precip and PET\n",
    "wdata = tmps[-1,] # remove the first NA row"
   ]
  },
  {
   "cell_type": "markdown",
   "metadata": {},
   "source": [
    "### NEDIad30_lag30 Calculated W (water availability) with 30 days lagged"
   ]
  },
  {
   "cell_type": "code",
   "execution_count": 49,
   "metadata": {},
   "outputs": [],
   "source": [
    "# case 30 days lag: NEDIad30_lag0\n",
    "lag = 30 # days\n",
    "wdata$Wad30_lag30    = NA\n",
    "wdata$NEDIad30_lag30 = NA\n",
    "name_cols = c('site', 'date', 'precip', 'PET', 'precip30d', 'PET30d', 'Wad30_lag30', 'NEDIad30_lag30')\n",
    "\n",
    "tmps = data.frame(matrix(NA, 1, length(name_cols) ))\n",
    "colnames(tmps) = name_cols\n",
    "for (i in unique(nsite))    \n",
    "    {\n",
    "     tmp = subset(wdata, site== i , select = name_cols )\n",
    "\n",
    "     for (iday in seq(lag+1, length(tmp$date)))\n",
    "         {\n",
    "          tmp[iday,]$Wad30_lag30 = tmp[iday-lag,]$precip30d - tmp[iday,]$PET30d\n",
    "          \n",
    "         }\n",
    "     Wmax = max(abs(tmp$Wad30_lag30), na.rm = T) \n",
    "     tmp$NEDIad30_lag30 = tmp$Wad30_lag30/Wmax \n",
    "     tmps = rbind(tmps, tmps = tmp) \n",
    "     }     "
   ]
  },
  {
   "cell_type": "code",
   "execution_count": 50,
   "metadata": {},
   "outputs": [],
   "source": [
    "wdata$Wad30_lag30     = tmps[-1,]$Wad30_lag30\n",
    "wdata$NEDIad30_lag30  = tmps[-1,]$NEDIad30_lag30"
   ]
  },
  {
   "cell_type": "markdown",
   "metadata": {},
   "source": [
    "### NEDIad30_lag0 Calculated W (water availability) with 0 days lagged"
   ]
  },
  {
   "cell_type": "code",
   "execution_count": 51,
   "metadata": {},
   "outputs": [],
   "source": [
    "# case 0 days lag: Wad30_lag0\n",
    "# Wad30_lag0 = precip30d - PET30d\n",
    "wdata$Wad30_lag0 = wdata$precip30d - wdata$PET30d"
   ]
  },
  {
   "cell_type": "code",
   "execution_count": 52,
   "metadata": {},
   "outputs": [],
   "source": [
    "# Wmax for lag = 0 days\n",
    "wdata$Wmax_lag0 = NA\n",
    "wdata[wdata$site == 'how', 'Wmax_lag0'] =  max(abs(wdata[wdata$site == 'how', 'Wad30_lag0']), na.rm=T)\n",
    "wdata[wdata$site == 'dap', 'Wmax_lag0'] =  max(abs(wdata[wdata$site == 'dap', 'Wad30_lag0']), na.rm=T)\n",
    "wdata[wdata$site == 'das', 'Wmax_lag0'] =  max(abs(wdata[wdata$site == 'das', 'Wad30_lag0']), na.rm=T)\n",
    "wdata[wdata$site == 'dry', 'Wmax_lag0'] =  max(abs(wdata[wdata$site == 'dry', 'Wad30_lag0']), na.rm=T)\n",
    "wdata[wdata$site == 'stp', 'Wmax_lag0'] =  max(abs(wdata[wdata$site == 'stp', 'Wad30_lag0']), na.rm=T)\n",
    "wdata[wdata$site == 'asm', 'Wmax_lag0'] =  max(abs(wdata[wdata$site == 'asm', 'Wad30_lag0']), na.rm=T)"
   ]
  },
  {
   "cell_type": "code",
   "execution_count": 53,
   "metadata": {},
   "outputs": [],
   "source": [
    "### Calculate NEDI\n",
    "wdata$NEDIad30_lag0 = wdata$Wad30_lag0/wdata$Wmax_lag0"
   ]
  },
  {
   "cell_type": "code",
   "execution_count": 54,
   "metadata": {},
   "outputs": [],
   "source": [
    "write.csv(wdata, file='data/NEDI_daily.csv', row.names=F)"
   ]
  },
  {
   "cell_type": "code",
   "execution_count": 55,
   "metadata": {},
   "outputs": [],
   "source": [
    "edata = edata[edata$site!='ade' & edata$site!='tte',]"
   ]
  },
  {
   "cell_type": "code",
   "execution_count": 56,
   "metadata": {},
   "outputs": [
    {
     "data": {
      "text/html": [
       "<ol class=list-inline>\n",
       "\t<li>20624</li>\n",
       "\t<li>28</li>\n",
       "</ol>\n"
      ],
      "text/latex": [
       "\\begin{enumerate*}\n",
       "\\item 20624\n",
       "\\item 28\n",
       "\\end{enumerate*}\n"
      ],
      "text/markdown": [
       "1. 20624\n",
       "2. 28\n",
       "\n",
       "\n"
      ],
      "text/plain": [
       "[1] 20624    28"
      ]
     },
     "metadata": {},
     "output_type": "display_data"
    },
    {
     "data": {
      "text/html": [
       "<ol class=list-inline>\n",
       "\t<li>20624</li>\n",
       "\t<li>11</li>\n",
       "</ol>\n"
      ],
      "text/latex": [
       "\\begin{enumerate*}\n",
       "\\item 20624\n",
       "\\item 11\n",
       "\\end{enumerate*}\n"
      ],
      "text/markdown": [
       "1. 20624\n",
       "2. 11\n",
       "\n",
       "\n"
      ],
      "text/plain": [
       "[1] 20624    11"
      ]
     },
     "metadata": {},
     "output_type": "display_data"
    }
   ],
   "source": [
    "dim(edata)\n",
    "dim(wdata)"
   ]
  },
  {
   "cell_type": "code",
   "execution_count": 57,
   "metadata": {},
   "outputs": [],
   "source": [
    "# reorder data frame with colummes of site and date\n",
    "edata.rd = edata[order(edata$site, as.Date(edata$date)),]"
   ]
  },
  {
   "cell_type": "code",
   "execution_count": 58,
   "metadata": {},
   "outputs": [
    {
     "data": {
      "text/html": [
       "<table>\n",
       "<thead><tr><th scope=col>site</th><th scope=col>date</th><th scope=col>fe</th><th scope=col>fe_qcflag</th><th scope=col>rg</th><th scope=col>fh</th><th scope=col>rn</th><th scope=col>fsd</th><th scope=col>swc</th><th scope=col>ta</th><th scope=col>...</th><th scope=col>lai_grass</th><th scope=col>ebr</th><th scope=col>fe_cor</th><th scope=col>fh_cor</th><th scope=col>et_ob_cor</th><th scope=col>PET</th><th scope=col>NEDI_lag0</th><th scope=col>NEDI_lag30</th><th scope=col>precip30d</th><th scope=col>PET30d</th></tr></thead>\n",
       "<tbody>\n",
       "\t<tr><td>asm       </td><td>2010-09-03</td><td> 97.53923 </td><td>1.0000000 </td><td>16.20047  </td><td>133.6796  </td><td>232.0331  </td><td>287.9045  </td><td>0.24216297</td><td>20.27125  </td><td>...       </td><td>0.09629074</td><td>1.0712877 </td><td> 91.04858 </td><td>124.7841  </td><td>1.270964  </td><td>2.113437  </td><td>NA        </td><td>NA        </td><td>NA        </td><td>NA        </td></tr>\n",
       "\t<tr><td>asm       </td><td>2010-09-04</td><td>127.42732 </td><td>0.2608696 </td><td>38.28930  </td><td>143.6944  </td><td>405.9317  </td><td>595.3478  </td><td>0.21113582</td><td>17.92765  </td><td>...       </td><td>0.09781502</td><td>0.7374604 </td><td>172.79209 </td><td>194.8503  </td><td>2.919834  </td><td>4.194895  </td><td>NA        </td><td>NA        </td><td>NA        </td><td>NA        </td></tr>\n",
       "\t<tr><td>asm       </td><td>2010-09-05</td><td>128.38460 </td><td>0.0000000 </td><td>41.40268  </td><td>180.2400  </td><td>409.2160  </td><td>589.9947  </td><td>0.15574198</td><td>17.87272  </td><td>...       </td><td>0.09930358</td><td>0.8390795 </td><td>153.00647 </td><td>214.8068  </td><td>2.585497  </td><td>4.191610  </td><td>NA        </td><td>NA        </td><td>NA        </td><td>NA        </td></tr>\n",
       "\t<tr><td>asm       </td><td>2010-09-06</td><td>106.39071 </td><td>0.0000000 </td><td>42.98975  </td><td>187.5803  </td><td>398.4354  </td><td>590.1765  </td><td>0.12474011</td><td>17.76354  </td><td>...       </td><td>0.10075795</td><td>0.8270489 </td><td>128.63896 </td><td>226.8067  </td><td>2.173736  </td><td>4.098442  </td><td>NA        </td><td>NA        </td><td>NA        </td><td>NA        </td></tr>\n",
       "\t<tr><td>asm       </td><td>2010-09-07</td><td> 75.58277 </td><td>0.3333333 </td><td>47.63041  </td><td>139.1003  </td><td>341.3030  </td><td>502.0445  </td><td>0.10609103</td><td>20.44793  </td><td>...       </td><td>0.10217879</td><td>0.7310287 </td><td>103.39234 </td><td>190.2802  </td><td>1.823081  </td><td>3.723884  </td><td>NA        </td><td>NA        </td><td>NA        </td><td>NA        </td></tr>\n",
       "\t<tr><td>asm       </td><td>2010-09-08</td><td> 70.63693 </td><td>0.7391304 </td><td>65.54825  </td><td>163.6179  </td><td>383.3728  </td><td>564.9573  </td><td>0.09529417</td><td>25.98139  </td><td>...       </td><td>0.10356342</td><td>0.7370570 </td><td> 95.83646 </td><td>221.9881  </td><td>1.619441  </td><td>4.173325  </td><td>NA        </td><td>NA        </td><td>NA        </td><td>NA        </td></tr>\n",
       "</tbody>\n",
       "</table>\n"
      ],
      "text/latex": [
       "\\begin{tabular}{r|llllllllllllllllllllllllllll}\n",
       " site & date & fe & fe\\_qcflag & rg & fh & rn & fsd & swc & ta & ... & lai\\_grass & ebr & fe\\_cor & fh\\_cor & et\\_ob\\_cor & PET & NEDI\\_lag0 & NEDI\\_lag30 & precip30d & PET30d\\\\\n",
       "\\hline\n",
       "\t asm        & 2010-09-03 &  97.53923  & 1.0000000  & 16.20047   & 133.6796   & 232.0331   & 287.9045   & 0.24216297 & 20.27125   & ...        & 0.09629074 & 1.0712877  &  91.04858  & 124.7841   & 1.270964   & 2.113437   & NA         & NA         & NA         & NA        \\\\\n",
       "\t asm        & 2010-09-04 & 127.42732  & 0.2608696  & 38.28930   & 143.6944   & 405.9317   & 595.3478   & 0.21113582 & 17.92765   & ...        & 0.09781502 & 0.7374604  & 172.79209  & 194.8503   & 2.919834   & 4.194895   & NA         & NA         & NA         & NA        \\\\\n",
       "\t asm        & 2010-09-05 & 128.38460  & 0.0000000  & 41.40268   & 180.2400   & 409.2160   & 589.9947   & 0.15574198 & 17.87272   & ...        & 0.09930358 & 0.8390795  & 153.00647  & 214.8068   & 2.585497   & 4.191610   & NA         & NA         & NA         & NA        \\\\\n",
       "\t asm        & 2010-09-06 & 106.39071  & 0.0000000  & 42.98975   & 187.5803   & 398.4354   & 590.1765   & 0.12474011 & 17.76354   & ...        & 0.10075795 & 0.8270489  & 128.63896  & 226.8067   & 2.173736   & 4.098442   & NA         & NA         & NA         & NA        \\\\\n",
       "\t asm        & 2010-09-07 &  75.58277  & 0.3333333  & 47.63041   & 139.1003   & 341.3030   & 502.0445   & 0.10609103 & 20.44793   & ...        & 0.10217879 & 0.7310287  & 103.39234  & 190.2802   & 1.823081   & 3.723884   & NA         & NA         & NA         & NA        \\\\\n",
       "\t asm        & 2010-09-08 &  70.63693  & 0.7391304  & 65.54825   & 163.6179   & 383.3728   & 564.9573   & 0.09529417 & 25.98139   & ...        & 0.10356342 & 0.7370570  &  95.83646  & 221.9881   & 1.619441   & 4.173325   & NA         & NA         & NA         & NA        \\\\\n",
       "\\end{tabular}\n"
      ],
      "text/markdown": [
       "\n",
       "site | date | fe | fe_qcflag | rg | fh | rn | fsd | swc | ta | ... | lai_grass | ebr | fe_cor | fh_cor | et_ob_cor | PET | NEDI_lag0 | NEDI_lag30 | precip30d | PET30d | \n",
       "|---|---|---|---|---|---|\n",
       "| asm        | 2010-09-03 |  97.53923  | 1.0000000  | 16.20047   | 133.6796   | 232.0331   | 287.9045   | 0.24216297 | 20.27125   | ...        | 0.09629074 | 1.0712877  |  91.04858  | 124.7841   | 1.270964   | 2.113437   | NA         | NA         | NA         | NA         | \n",
       "| asm        | 2010-09-04 | 127.42732  | 0.2608696  | 38.28930   | 143.6944   | 405.9317   | 595.3478   | 0.21113582 | 17.92765   | ...        | 0.09781502 | 0.7374604  | 172.79209  | 194.8503   | 2.919834   | 4.194895   | NA         | NA         | NA         | NA         | \n",
       "| asm        | 2010-09-05 | 128.38460  | 0.0000000  | 41.40268   | 180.2400   | 409.2160   | 589.9947   | 0.15574198 | 17.87272   | ...        | 0.09930358 | 0.8390795  | 153.00647  | 214.8068   | 2.585497   | 4.191610   | NA         | NA         | NA         | NA         | \n",
       "| asm        | 2010-09-06 | 106.39071  | 0.0000000  | 42.98975   | 187.5803   | 398.4354   | 590.1765   | 0.12474011 | 17.76354   | ...        | 0.10075795 | 0.8270489  | 128.63896  | 226.8067   | 2.173736   | 4.098442   | NA         | NA         | NA         | NA         | \n",
       "| asm        | 2010-09-07 |  75.58277  | 0.3333333  | 47.63041   | 139.1003   | 341.3030   | 502.0445   | 0.10609103 | 20.44793   | ...        | 0.10217879 | 0.7310287  | 103.39234  | 190.2802   | 1.823081   | 3.723884   | NA         | NA         | NA         | NA         | \n",
       "| asm        | 2010-09-08 |  70.63693  | 0.7391304  | 65.54825   | 163.6179   | 383.3728   | 564.9573   | 0.09529417 | 25.98139   | ...        | 0.10356342 | 0.7370570  |  95.83646  | 221.9881   | 1.619441   | 4.173325   | NA         | NA         | NA         | NA         | \n",
       "\n",
       "\n"
      ],
      "text/plain": [
       "  site date       fe        fe_qcflag rg       fh       rn       fsd     \n",
       "1 asm  2010-09-03  97.53923 1.0000000 16.20047 133.6796 232.0331 287.9045\n",
       "2 asm  2010-09-04 127.42732 0.2608696 38.28930 143.6944 405.9317 595.3478\n",
       "3 asm  2010-09-05 128.38460 0.0000000 41.40268 180.2400 409.2160 589.9947\n",
       "4 asm  2010-09-06 106.39071 0.0000000 42.98975 187.5803 398.4354 590.1765\n",
       "5 asm  2010-09-07  75.58277 0.3333333 47.63041 139.1003 341.3030 502.0445\n",
       "6 asm  2010-09-08  70.63693 0.7391304 65.54825 163.6179 383.3728 564.9573\n",
       "  swc        ta       ... lai_grass  ebr       fe_cor    fh_cor   et_ob_cor\n",
       "1 0.24216297 20.27125 ... 0.09629074 1.0712877  91.04858 124.7841 1.270964 \n",
       "2 0.21113582 17.92765 ... 0.09781502 0.7374604 172.79209 194.8503 2.919834 \n",
       "3 0.15574198 17.87272 ... 0.09930358 0.8390795 153.00647 214.8068 2.585497 \n",
       "4 0.12474011 17.76354 ... 0.10075795 0.8270489 128.63896 226.8067 2.173736 \n",
       "5 0.10609103 20.44793 ... 0.10217879 0.7310287 103.39234 190.2802 1.823081 \n",
       "6 0.09529417 25.98139 ... 0.10356342 0.7370570  95.83646 221.9881 1.619441 \n",
       "  PET      NEDI_lag0 NEDI_lag30 precip30d PET30d\n",
       "1 2.113437 NA        NA         NA        NA    \n",
       "2 4.194895 NA        NA         NA        NA    \n",
       "3 4.191610 NA        NA         NA        NA    \n",
       "4 4.098442 NA        NA         NA        NA    \n",
       "5 3.723884 NA        NA         NA        NA    \n",
       "6 4.173325 NA        NA         NA        NA    "
      ]
     },
     "metadata": {},
     "output_type": "display_data"
    }
   ],
   "source": [
    "head(edata.rd)"
   ]
  },
  {
   "cell_type": "code",
   "execution_count": 59,
   "metadata": {},
   "outputs": [],
   "source": [
    "wdata.rd = wdata[order(wdata$site, as.Date(wdata$date)),]"
   ]
  },
  {
   "cell_type": "code",
   "execution_count": 60,
   "metadata": {},
   "outputs": [
    {
     "data": {
      "text/html": [
       "<table>\n",
       "<thead><tr><th></th><th scope=col>site</th><th scope=col>date</th><th scope=col>precip</th><th scope=col>PET</th><th scope=col>precip30d</th><th scope=col>PET30d</th><th scope=col>Wad30_lag30</th><th scope=col>NEDIad30_lag30</th><th scope=col>Wad30_lag0</th><th scope=col>Wmax_lag0</th><th scope=col>NEDIad30_lag0</th></tr></thead>\n",
       "<tbody>\n",
       "\t<tr><th scope=row>tmps.1</th><td>asm       </td><td>2010-09-03</td><td>19.2      </td><td>2.113437  </td><td>NA        </td><td>NA        </td><td>NA        </td><td>NA        </td><td>NA        </td><td>469.7     </td><td>NA        </td></tr>\n",
       "\t<tr><th scope=row>tmps.2</th><td>asm       </td><td>2010-09-04</td><td> 0.0      </td><td>4.194895  </td><td>NA        </td><td>NA        </td><td>NA        </td><td>NA        </td><td>NA        </td><td>469.7     </td><td>NA        </td></tr>\n",
       "\t<tr><th scope=row>tmps.3</th><td>asm       </td><td>2010-09-05</td><td> 0.0      </td><td>4.191610  </td><td>NA        </td><td>NA        </td><td>NA        </td><td>NA        </td><td>NA        </td><td>469.7     </td><td>NA        </td></tr>\n",
       "\t<tr><th scope=row>tmps.4</th><td>asm       </td><td>2010-09-06</td><td> 0.0      </td><td>4.098442  </td><td>NA        </td><td>NA        </td><td>NA        </td><td>NA        </td><td>NA        </td><td>469.7     </td><td>NA        </td></tr>\n",
       "\t<tr><th scope=row>tmps.5</th><td>asm       </td><td>2010-09-07</td><td> 0.0      </td><td>3.723884  </td><td>NA        </td><td>NA        </td><td>NA        </td><td>NA        </td><td>NA        </td><td>469.7     </td><td>NA        </td></tr>\n",
       "\t<tr><th scope=row>tmps.6</th><td>asm       </td><td>2010-09-08</td><td> 0.0      </td><td>4.173325  </td><td>NA        </td><td>NA        </td><td>NA        </td><td>NA        </td><td>NA        </td><td>469.7     </td><td>NA        </td></tr>\n",
       "</tbody>\n",
       "</table>\n"
      ],
      "text/latex": [
       "\\begin{tabular}{r|lllllllllll}\n",
       "  & site & date & precip & PET & precip30d & PET30d & Wad30\\_lag30 & NEDIad30\\_lag30 & Wad30\\_lag0 & Wmax\\_lag0 & NEDIad30\\_lag0\\\\\n",
       "\\hline\n",
       "\ttmps.1 & asm        & 2010-09-03 & 19.2       & 2.113437   & NA         & NA         & NA         & NA         & NA         & 469.7      & NA        \\\\\n",
       "\ttmps.2 & asm        & 2010-09-04 &  0.0       & 4.194895   & NA         & NA         & NA         & NA         & NA         & 469.7      & NA        \\\\\n",
       "\ttmps.3 & asm        & 2010-09-05 &  0.0       & 4.191610   & NA         & NA         & NA         & NA         & NA         & 469.7      & NA        \\\\\n",
       "\ttmps.4 & asm        & 2010-09-06 &  0.0       & 4.098442   & NA         & NA         & NA         & NA         & NA         & 469.7      & NA        \\\\\n",
       "\ttmps.5 & asm        & 2010-09-07 &  0.0       & 3.723884   & NA         & NA         & NA         & NA         & NA         & 469.7      & NA        \\\\\n",
       "\ttmps.6 & asm        & 2010-09-08 &  0.0       & 4.173325   & NA         & NA         & NA         & NA         & NA         & 469.7      & NA        \\\\\n",
       "\\end{tabular}\n"
      ],
      "text/markdown": [
       "\n",
       "| <!--/--> | site | date | precip | PET | precip30d | PET30d | Wad30_lag30 | NEDIad30_lag30 | Wad30_lag0 | Wmax_lag0 | NEDIad30_lag0 | \n",
       "|---|---|---|---|---|---|\n",
       "| tmps.1 | asm        | 2010-09-03 | 19.2       | 2.113437   | NA         | NA         | NA         | NA         | NA         | 469.7      | NA         | \n",
       "| tmps.2 | asm        | 2010-09-04 |  0.0       | 4.194895   | NA         | NA         | NA         | NA         | NA         | 469.7      | NA         | \n",
       "| tmps.3 | asm        | 2010-09-05 |  0.0       | 4.191610   | NA         | NA         | NA         | NA         | NA         | 469.7      | NA         | \n",
       "| tmps.4 | asm        | 2010-09-06 |  0.0       | 4.098442   | NA         | NA         | NA         | NA         | NA         | 469.7      | NA         | \n",
       "| tmps.5 | asm        | 2010-09-07 |  0.0       | 3.723884   | NA         | NA         | NA         | NA         | NA         | 469.7      | NA         | \n",
       "| tmps.6 | asm        | 2010-09-08 |  0.0       | 4.173325   | NA         | NA         | NA         | NA         | NA         | 469.7      | NA         | \n",
       "\n",
       "\n"
      ],
      "text/plain": [
       "       site date       precip PET      precip30d PET30d Wad30_lag30\n",
       "tmps.1 asm  2010-09-03 19.2   2.113437 NA        NA     NA         \n",
       "tmps.2 asm  2010-09-04  0.0   4.194895 NA        NA     NA         \n",
       "tmps.3 asm  2010-09-05  0.0   4.191610 NA        NA     NA         \n",
       "tmps.4 asm  2010-09-06  0.0   4.098442 NA        NA     NA         \n",
       "tmps.5 asm  2010-09-07  0.0   3.723884 NA        NA     NA         \n",
       "tmps.6 asm  2010-09-08  0.0   4.173325 NA        NA     NA         \n",
       "       NEDIad30_lag30 Wad30_lag0 Wmax_lag0 NEDIad30_lag0\n",
       "tmps.1 NA             NA         469.7     NA           \n",
       "tmps.2 NA             NA         469.7     NA           \n",
       "tmps.3 NA             NA         469.7     NA           \n",
       "tmps.4 NA             NA         469.7     NA           \n",
       "tmps.5 NA             NA         469.7     NA           \n",
       "tmps.6 NA             NA         469.7     NA           "
      ]
     },
     "metadata": {},
     "output_type": "display_data"
    }
   ],
   "source": [
    "head(wdata.rd)"
   ]
  },
  {
   "cell_type": "code",
   "execution_count": 61,
   "metadata": {},
   "outputs": [],
   "source": [
    "edata.rd$NEDI_lag0 = wdata.rd$NEDIad30_lag0 \n",
    "edata.rd$NEDI_lag30 = wdata.rd$NEDIad30_lag30 "
   ]
  },
  {
   "cell_type": "code",
   "execution_count": 62,
   "metadata": {},
   "outputs": [
    {
     "data": {
      "text/plain": [
       "  site              date             fe            fe_qcflag      \n",
       " asm:2616   2010-09-03:    6   Min.   : -6.812   Min.   :0.00000  \n",
       " dap:2078   2010-09-04:    6   1st Qu.: 54.860   1st Qu.:0.00000  \n",
       " das:3593   2010-09-05:    6   Median :116.878   Median :0.04545  \n",
       " dry:3215   2010-09-06:    6   Mean   :122.813   Mean   :0.24187  \n",
       " how:5811   2010-09-07:    6   3rd Qu.:181.502   3rd Qu.:0.30769  \n",
       " stp:3311   2010-09-08:    6   Max.   :385.323   Max.   :1.00000  \n",
       "            (Other)   :20588                                      \n",
       "       rg               fh               rn               fsd        \n",
       " Min.   :-38.22   Min.   :-41.13   Min.   : -8.607   Min.   : 35.36  \n",
       " 1st Qu.: 24.79   1st Qu.: 74.53   1st Qu.:279.329   1st Qu.:463.14  \n",
       " Median : 37.45   Median :118.97   Median :324.618   Median :517.16  \n",
       " Mean   : 37.86   Mean   :122.60   Mean   :325.285   Mean   :504.50  \n",
       " 3rd Qu.: 50.60   3rd Qu.:167.22   3rd Qu.:377.248   3rd Qu.:571.45  \n",
       " Max.   :123.27   Max.   :339.20   Max.   :585.776   Max.   :731.77  \n",
       "                                                                     \n",
       "      swc                ta             ustar             vpd          \n",
       " Min.   :0.01111   Min.   : 7.752   Min.   :0.1016   Min.   :-0.06168  \n",
       " 1st Qu.:0.03942   1st Qu.:26.861   1st Qu.:0.3294   1st Qu.: 1.62549  \n",
       " Median :0.06648   Median :29.173   Median :0.4210   Median : 2.18683  \n",
       " Mean   :0.08577   Mean   :28.628   Mean   :0.4352   Mean   : 2.25132  \n",
       " 3rd Qu.:0.11276   3rd Qu.:31.128   3rd Qu.:0.5296   3rd Qu.: 2.77641  \n",
       " Max.   :0.79147   Max.   :39.166   Max.   :1.2111   Max.   : 6.26844  \n",
       "                                                                       \n",
       "       u             et_ob           day_length        precip       \n",
       " Min.   :0.000   Min.   :-0.1212   Min.   : 1.50   Min.   :  0.000  \n",
       " 1st Qu.:1.681   1st Qu.: 0.9418   1st Qu.:11.50   1st Qu.:  0.000  \n",
       " Median :2.177   Median : 2.0233   Median :11.50   Median :  0.000  \n",
       " Mean   :2.394   Mean   : 2.1587   Mean   :11.77   Mean   :  3.099  \n",
       " 3rd Qu.:2.864   3rd Qu.: 3.2050   3rd Qu.:12.00   3rd Qu.:  0.200  \n",
       " Max.   :7.888   Max.   : 6.8638   Max.   :24.00   Max.   :194.564  \n",
       "                                                                    \n",
       "      lai            lai_tree        lai_grass            ebr          \n",
       " Min.   :0.1723   Min.   :0.0000   Min.   :0.00000   Min.   :-10.9664  \n",
       " 1st Qu.:0.7465   1st Qu.:0.0000   1st Qu.:0.05983   1st Qu.:  0.7821  \n",
       " Median :1.0052   Median :0.8273   Median :0.34323   Median :  0.8503  \n",
       " Mean   :1.1144   Mean   :0.6550   Mean   :0.45946   Mean   :  0.8794  \n",
       " 3rd Qu.:1.4931   3rd Qu.:1.0413   3rd Qu.:0.66580   3rd Qu.:  0.9274  \n",
       " Max.   :3.6908   Max.   :1.5037   Max.   :3.69083   Max.   : 80.5515  \n",
       "                                                                       \n",
       "     fe_cor           fh_cor         et_ob_cor            PET         \n",
       " Min.   :-17.90   Min.   :-130.5   Min.   :-0.2893   Min.   :-0.1089  \n",
       " 1st Qu.: 63.44   1st Qu.:  88.5   1st Qu.: 1.0850   1st Qu.: 3.2018  \n",
       " Median :136.32   Median : 135.8   Median : 2.3282   Median : 3.9559  \n",
       " Mean   :143.69   Mean   : 143.7   Mean   : 2.5069   Mean   : 3.9951  \n",
       " 3rd Qu.:216.37   3rd Qu.: 194.6   3rd Qu.: 3.7862   3rd Qu.: 4.8014  \n",
       " Max.   :479.26   Max.   : 408.1   Max.   : 9.0430   Max.   : 8.4355  \n",
       "                                                                      \n",
       "   NEDI_lag0         NEDI_lag30     precip30d       PET30d       \n",
       " Min.   :0.00000   Min.   :0.0000   Mode:logical   Mode:logical  \n",
       " 1st Qu.:0.00000   1st Qu.:0.0000   NA's:20624     NA's:20624    \n",
       " Median :0.03321   Median :0.0341                                \n",
       " Mean   :0.14409   Mean   :0.1450                                \n",
       " 3rd Qu.:0.22247   3rd Qu.:0.2246                                \n",
       " Max.   :1.00000   Max.   :1.0000                                \n",
       " NA's   :174       NA's   :354                                   "
      ]
     },
     "metadata": {},
     "output_type": "display_data"
    }
   ],
   "source": [
    "summary(edata.rd)"
   ]
  },
  {
   "cell_type": "code",
   "execution_count": 68,
   "metadata": {},
   "outputs": [],
   "source": [
    "write.csv(edata.rd[, -c(27,28)], file = 'data/allsite6_flux_NEDI.csv', row.names= F)"
   ]
  }
 ],
 "metadata": {
  "kernelspec": {
   "display_name": "R",
   "language": "R",
   "name": "ir"
  },
  "language_info": {
   "codemirror_mode": "r",
   "file_extension": ".r",
   "mimetype": "text/x-r-source",
   "name": "R",
   "pygments_lexer": "r",
   "version": "3.5.1"
  }
 },
 "nbformat": 4,
 "nbformat_minor": 2
}

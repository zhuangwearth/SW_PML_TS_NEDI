{
 "cells": [
  {
   "cell_type": "markdown",
   "metadata": {},
   "source": [
    "# Plotting Figure 6: Graphical seasonal pattens of observed and predicted ET at 6 sites"
   ]
  },
  {
   "cell_type": "code",
   "execution_count": 1,
   "metadata": {},
   "outputs": [
    {
     "name": "stderr",
     "output_type": "stream",
     "text": [
      "Warning message:\n",
      "\"package 'ggplot2' was built under R version 3.5.3\""
     ]
    }
   ],
   "source": [
    "# change date lab(month) to english from chinese\n",
    "library(ggplot2)\n",
    "library(scales)"
   ]
  },
  {
   "cell_type": "code",
   "execution_count": 2,
   "metadata": {},
   "outputs": [],
   "source": [
    "# x: the vector\n",
    "# n: the number of samples\n",
    "# centered: if FALSE, then average current sample and previous (n-1) samples\n",
    "#           if TRUE, then average symmetrically in past and future. (If n is even, use one more sample from future.)\n",
    "movingAverage <- function(x, n=1, centered=FALSE) {\n",
    "    \n",
    "    if (centered) {\n",
    "        before <- floor  ((n-1)/2)\n",
    "        after  <- ceiling((n-1)/2)\n",
    "    } else {\n",
    "        before <- n-1\n",
    "        after  <- 0\n",
    "    }\n",
    "\n",
    "    # Track the sum and count of number of non-NA items\n",
    "    s     <- rep(0, length(x))\n",
    "    count <- rep(0, length(x))\n",
    "    \n",
    "    # Add the centered data \n",
    "    new <- x\n",
    "    # Add to count list wherever there isn't a \n",
    "    count <- count + !is.na(new)\n",
    "    # Now replace NA_s with 0_s and add to total\n",
    "    new[is.na(new)] <- 0\n",
    "    s <- s + new\n",
    "    \n",
    "    # Add the data from before\n",
    "    i <- 1\n",
    "    while (i <= before) {\n",
    "        # This is the vector with offset values to add\n",
    "        new   <- c(rep(NA, i), x[1:(length(x)-i)])\n",
    "\n",
    "        count <- count + !is.na(new)\n",
    "        new[is.na(new)] <- 0\n",
    "        s <- s + new\n",
    "        \n",
    "        i <- i+1\n",
    "    }\n",
    "\n",
    "    # Add the data from after\n",
    "    i <- 1\n",
    "    while (i <= after) {\n",
    "        # This is the vector with offset values to add\n",
    "        new   <- c(x[(i+1):length(x)], rep(NA, i))\n",
    "       \n",
    "        count <- count + !is.na(new)\n",
    "        new[is.na(new)] <- 0\n",
    "        s <- s + new\n",
    "        \n",
    "        i <- i+1\n",
    "    }\n",
    "    \n",
    "    # return sum divided by count\n",
    "    s/count\n",
    "}"
   ]
  },
  {
   "cell_type": "markdown",
   "metadata": {},
   "source": [
    "## load and merge simulation results"
   ]
  },
  {
   "cell_type": "code",
   "execution_count": 3,
   "metadata": {},
   "outputs": [],
   "source": [
    "workdir = 'D:/Field/NATT/modeling_et_afm_v16d/' # this maybe need change according where you place the directory of modeling_et"
   ]
  },
  {
   "cell_type": "code",
   "execution_count": 4,
   "metadata": {},
   "outputs": [],
   "source": [
    "# Load data\n",
    "fdata1 = read.csv(paste0(workdir, 'output/simulation_results.csv'))\n",
    "\n",
    "fdata2 = read.csv(paste0(workdir, 'output/simulation_results_DIs.csv'))"
   ]
  },
  {
   "cell_type": "code",
   "execution_count": 5,
   "metadata": {},
   "outputs": [],
   "source": [
    "# combine predicted et from the three models\n",
    "edata = data.frame(site = fdata1$site,\n",
    "                   date = as.Date(fdata1$date),\n",
    "                   fe_qcflag = fdata1$fe_qcflag,   # latent heat flux quality flag\n",
    "                   ebr       = fdata1$ebr,         # energy balance ratio\n",
    "                   et_ob     = fdata1$et_ob,   \n",
    "                   et_pml    = fdata1$et_pml,\n",
    "                   et_sw     = fdata1$et_sw,\n",
    "                   et_ts     = fdata1$et_ts,\n",
    "                   et_pml_di = fdata2$et_pml_di,\n",
    "                   et_sw_di  = fdata2$et_sw_di,\n",
    "                   et_ts_di  = fdata2$et_ts_di)"
   ]
  },
  {
   "cell_type": "code",
   "execution_count": 6,
   "metadata": {},
   "outputs": [],
   "source": [
    "# data quality control\n",
    "# remove stp years 2009 and 2015 when soil water content observation is abnormal.\n",
    "edata$year = as.numeric(strftime(as.Date(edata$date), format='%Y'))\n",
    "edata = edata[edata$site != 'stp' | edata$year !=2009,]\n",
    "edata = edata[edata$site != 'stp' | edata$year !=2015,]"
   ]
  },
  {
   "cell_type": "code",
   "execution_count": 7,
   "metadata": {},
   "outputs": [],
   "source": [
    "# remove gap-filling percent >0.2\n",
    "datas = subset(edata, fe_qcflag<0.2 & et_ob >0 & ebr > 0.7 & ebr < 1.3)"
   ]
  },
  {
   "cell_type": "code",
   "execution_count": 8,
   "metadata": {},
   "outputs": [],
   "source": [
    "datas = na.omit(datas)"
   ]
  },
  {
   "cell_type": "markdown",
   "metadata": {},
   "source": [
    "## calculate mean daily residuals in a whole year"
   ]
  },
  {
   "cell_type": "code",
   "execution_count": 9,
   "metadata": {},
   "outputs": [],
   "source": [
    "datas$date = as.Date(datas$date)\n",
    "datas$doy  = as.numeric(strftime(datas$date, format = \"%j\"))"
   ]
  },
  {
   "cell_type": "code",
   "execution_count": 10,
   "metadata": {},
   "outputs": [],
   "source": [
    "# aggregate to doy for ET of each site\n",
    "v_names = c('doy', 'et_ob', 'et_pml','et_sw', 'et_ts', 'et_pml_di', 'et_sw_di', 'et_ts_di')\n",
    "lens = length(v_names) \n",
    "tmp = subset(datas, site == 'asm', select= v_names)\n",
    "res_asm = aggregate(tmp[2: lens], list(tmp$doy), mean)\n",
    "tmp = subset(datas, site == 'dap', select= v_names)\n",
    "res_dap = aggregate(tmp[2: lens], list(tmp$doy), mean)\n",
    "tmp = subset(datas, site == 'das', select= v_names)\n",
    "res_das = aggregate(tmp[2: lens], list(tmp$doy), mean)\n",
    "tmp = subset(datas, site == 'dry', select= v_names)\n",
    "res_dry = aggregate(tmp[2: lens], list(tmp$doy), mean)\n",
    "tmp = subset(datas, site == 'how', select= v_names)\n",
    "res_how = aggregate(tmp[2: lens], list(tmp$doy), mean)\n",
    "tmp = subset(datas, site == 'stp', select= v_names)\n",
    "res_stp = aggregate(tmp[2: lens], list(tmp$doy), mean)\n",
    "\n",
    "# residuals of 5 sites\n",
    "res_asm$site = 'asm'; res_dap$site = 'dap'; res_das$site = 'das'; \n",
    "res_dry$site = 'dry'; res_how$site = 'how'; res_stp$site = 'stp'\n",
    "res_all = rbind(res_asm, res_dap, res_das, res_dry, res_how, res_stp)"
   ]
  },
  {
   "cell_type": "code",
   "execution_count": 11,
   "metadata": {},
   "outputs": [
    {
     "data": {
      "text/html": [
       "<table>\n",
       "<thead><tr><th scope=col>doy</th><th scope=col>et_ob</th><th scope=col>et_pml</th><th scope=col>et_sw</th><th scope=col>et_ts</th><th scope=col>et_pml_di</th><th scope=col>et_sw_di</th><th scope=col>et_ts_di</th><th scope=col>site</th></tr></thead>\n",
       "<tbody>\n",
       "\t<tr><td>1        </td><td>1.5247523</td><td>1.8086399</td><td>1.2508136</td><td>1.2592552</td><td>1.6840863</td><td>1.0883021</td><td>1.191346 </td><td>asm      </td></tr>\n",
       "\t<tr><td>2        </td><td>1.9170939</td><td>2.2184054</td><td>1.5619178</td><td>1.5741766</td><td>1.9854180</td><td>1.2661933</td><td>1.395729 </td><td>asm      </td></tr>\n",
       "\t<tr><td>3        </td><td>1.4190002</td><td>1.7272599</td><td>1.4812460</td><td>1.4909778</td><td>1.5507538</td><td>1.2547033</td><td>1.364396 </td><td>asm      </td></tr>\n",
       "\t<tr><td>4        </td><td>1.4417092</td><td>2.1890870</td><td>2.1749283</td><td>2.1857979</td><td>2.0793531</td><td>2.0220611</td><td>2.139551 </td><td>asm      </td></tr>\n",
       "\t<tr><td>5        </td><td>0.3113496</td><td>0.5734018</td><td>0.5751254</td><td>0.5784379</td><td>0.3642785</td><td>0.3149107</td><td>0.312725 </td><td>asm      </td></tr>\n",
       "\t<tr><td>6        </td><td>1.5577685</td><td>1.5870193</td><td>1.6829967</td><td>1.6956522</td><td>1.4351363</td><td>1.4827690</td><td>1.603793 </td><td>asm      </td></tr>\n",
       "</tbody>\n",
       "</table>\n"
      ],
      "text/latex": [
       "\\begin{tabular}{r|lllllllll}\n",
       " doy & et\\_ob & et\\_pml & et\\_sw & et\\_ts & et\\_pml\\_di & et\\_sw\\_di & et\\_ts\\_di & site\\\\\n",
       "\\hline\n",
       "\t 1         & 1.5247523 & 1.8086399 & 1.2508136 & 1.2592552 & 1.6840863 & 1.0883021 & 1.191346  & asm      \\\\\n",
       "\t 2         & 1.9170939 & 2.2184054 & 1.5619178 & 1.5741766 & 1.9854180 & 1.2661933 & 1.395729  & asm      \\\\\n",
       "\t 3         & 1.4190002 & 1.7272599 & 1.4812460 & 1.4909778 & 1.5507538 & 1.2547033 & 1.364396  & asm      \\\\\n",
       "\t 4         & 1.4417092 & 2.1890870 & 2.1749283 & 2.1857979 & 2.0793531 & 2.0220611 & 2.139551  & asm      \\\\\n",
       "\t 5         & 0.3113496 & 0.5734018 & 0.5751254 & 0.5784379 & 0.3642785 & 0.3149107 & 0.312725  & asm      \\\\\n",
       "\t 6         & 1.5577685 & 1.5870193 & 1.6829967 & 1.6956522 & 1.4351363 & 1.4827690 & 1.603793  & asm      \\\\\n",
       "\\end{tabular}\n"
      ],
      "text/markdown": [
       "\n",
       "doy | et_ob | et_pml | et_sw | et_ts | et_pml_di | et_sw_di | et_ts_di | site | \n",
       "|---|---|---|---|---|---|\n",
       "| 1         | 1.5247523 | 1.8086399 | 1.2508136 | 1.2592552 | 1.6840863 | 1.0883021 | 1.191346  | asm       | \n",
       "| 2         | 1.9170939 | 2.2184054 | 1.5619178 | 1.5741766 | 1.9854180 | 1.2661933 | 1.395729  | asm       | \n",
       "| 3         | 1.4190002 | 1.7272599 | 1.4812460 | 1.4909778 | 1.5507538 | 1.2547033 | 1.364396  | asm       | \n",
       "| 4         | 1.4417092 | 2.1890870 | 2.1749283 | 2.1857979 | 2.0793531 | 2.0220611 | 2.139551  | asm       | \n",
       "| 5         | 0.3113496 | 0.5734018 | 0.5751254 | 0.5784379 | 0.3642785 | 0.3149107 | 0.312725  | asm       | \n",
       "| 6         | 1.5577685 | 1.5870193 | 1.6829967 | 1.6956522 | 1.4351363 | 1.4827690 | 1.603793  | asm       | \n",
       "\n",
       "\n"
      ],
      "text/plain": [
       "  doy et_ob     et_pml    et_sw     et_ts     et_pml_di et_sw_di  et_ts_di site\n",
       "1 1   1.5247523 1.8086399 1.2508136 1.2592552 1.6840863 1.0883021 1.191346 asm \n",
       "2 2   1.9170939 2.2184054 1.5619178 1.5741766 1.9854180 1.2661933 1.395729 asm \n",
       "3 3   1.4190002 1.7272599 1.4812460 1.4909778 1.5507538 1.2547033 1.364396 asm \n",
       "4 4   1.4417092 2.1890870 2.1749283 2.1857979 2.0793531 2.0220611 2.139551 asm \n",
       "5 5   0.3113496 0.5734018 0.5751254 0.5784379 0.3642785 0.3149107 0.312725 asm \n",
       "6 6   1.5577685 1.5870193 1.6829967 1.6956522 1.4351363 1.4827690 1.603793 asm "
      ]
     },
     "metadata": {},
     "output_type": "display_data"
    },
    {
     "data": {
      "text/html": [
       "<table>\n",
       "<thead><tr><th></th><th scope=col>doy</th><th scope=col>et_ob</th><th scope=col>et_pml</th><th scope=col>et_sw</th><th scope=col>et_ts</th><th scope=col>et_pml_di</th><th scope=col>et_sw_di</th><th scope=col>et_ts_di</th><th scope=col>site</th></tr></thead>\n",
       "<tbody>\n",
       "\t<tr><th scope=row>2188</th><td>360     </td><td>1.948713</td><td>2.306744</td><td>2.558523</td><td>2.558523</td><td>2.143436</td><td>2.561394</td><td>2.561102</td><td>stp     </td></tr>\n",
       "\t<tr><th scope=row>2189</th><td>361     </td><td>2.442051</td><td>2.391791</td><td>2.495499</td><td>2.495499</td><td>2.195141</td><td>2.494511</td><td>2.494229</td><td>stp     </td></tr>\n",
       "\t<tr><th scope=row>2190</th><td>362     </td><td>2.527676</td><td>2.418623</td><td>2.668248</td><td>2.668248</td><td>2.201461</td><td>2.683490</td><td>2.683154</td><td>stp     </td></tr>\n",
       "\t<tr><th scope=row>2191</th><td>363     </td><td>2.544142</td><td>2.281703</td><td>2.839338</td><td>2.839338</td><td>2.126623</td><td>2.857274</td><td>2.856984</td><td>stp     </td></tr>\n",
       "\t<tr><th scope=row>2192</th><td>364     </td><td>2.449819</td><td>2.463237</td><td>2.812657</td><td>2.812657</td><td>2.294924</td><td>2.833193</td><td>2.832881</td><td>stp     </td></tr>\n",
       "\t<tr><th scope=row>2193</th><td>365     </td><td>2.207245</td><td>2.372645</td><td>2.896925</td><td>2.896925</td><td>2.227185</td><td>2.917882</td><td>2.917568</td><td>stp     </td></tr>\n",
       "</tbody>\n",
       "</table>\n"
      ],
      "text/latex": [
       "\\begin{tabular}{r|lllllllll}\n",
       "  & doy & et\\_ob & et\\_pml & et\\_sw & et\\_ts & et\\_pml\\_di & et\\_sw\\_di & et\\_ts\\_di & site\\\\\n",
       "\\hline\n",
       "\t2188 & 360      & 1.948713 & 2.306744 & 2.558523 & 2.558523 & 2.143436 & 2.561394 & 2.561102 & stp     \\\\\n",
       "\t2189 & 361      & 2.442051 & 2.391791 & 2.495499 & 2.495499 & 2.195141 & 2.494511 & 2.494229 & stp     \\\\\n",
       "\t2190 & 362      & 2.527676 & 2.418623 & 2.668248 & 2.668248 & 2.201461 & 2.683490 & 2.683154 & stp     \\\\\n",
       "\t2191 & 363      & 2.544142 & 2.281703 & 2.839338 & 2.839338 & 2.126623 & 2.857274 & 2.856984 & stp     \\\\\n",
       "\t2192 & 364      & 2.449819 & 2.463237 & 2.812657 & 2.812657 & 2.294924 & 2.833193 & 2.832881 & stp     \\\\\n",
       "\t2193 & 365      & 2.207245 & 2.372645 & 2.896925 & 2.896925 & 2.227185 & 2.917882 & 2.917568 & stp     \\\\\n",
       "\\end{tabular}\n"
      ],
      "text/markdown": [
       "\n",
       "| <!--/--> | doy | et_ob | et_pml | et_sw | et_ts | et_pml_di | et_sw_di | et_ts_di | site | \n",
       "|---|---|---|---|---|---|\n",
       "| 2188 | 360      | 1.948713 | 2.306744 | 2.558523 | 2.558523 | 2.143436 | 2.561394 | 2.561102 | stp      | \n",
       "| 2189 | 361      | 2.442051 | 2.391791 | 2.495499 | 2.495499 | 2.195141 | 2.494511 | 2.494229 | stp      | \n",
       "| 2190 | 362      | 2.527676 | 2.418623 | 2.668248 | 2.668248 | 2.201461 | 2.683490 | 2.683154 | stp      | \n",
       "| 2191 | 363      | 2.544142 | 2.281703 | 2.839338 | 2.839338 | 2.126623 | 2.857274 | 2.856984 | stp      | \n",
       "| 2192 | 364      | 2.449819 | 2.463237 | 2.812657 | 2.812657 | 2.294924 | 2.833193 | 2.832881 | stp      | \n",
       "| 2193 | 365      | 2.207245 | 2.372645 | 2.896925 | 2.896925 | 2.227185 | 2.917882 | 2.917568 | stp      | \n",
       "\n",
       "\n"
      ],
      "text/plain": [
       "     doy et_ob    et_pml   et_sw    et_ts    et_pml_di et_sw_di et_ts_di site\n",
       "2188 360 1.948713 2.306744 2.558523 2.558523 2.143436  2.561394 2.561102 stp \n",
       "2189 361 2.442051 2.391791 2.495499 2.495499 2.195141  2.494511 2.494229 stp \n",
       "2190 362 2.527676 2.418623 2.668248 2.668248 2.201461  2.683490 2.683154 stp \n",
       "2191 363 2.544142 2.281703 2.839338 2.839338 2.126623  2.857274 2.856984 stp \n",
       "2192 364 2.449819 2.463237 2.812657 2.812657 2.294924  2.833193 2.832881 stp \n",
       "2193 365 2.207245 2.372645 2.896925 2.896925 2.227185  2.917882 2.917568 stp "
      ]
     },
     "metadata": {},
     "output_type": "display_data"
    }
   ],
   "source": [
    "colnames(res_all) =  c(v_names, 'site')\n",
    "head(res_all);tail(res_all)"
   ]
  },
  {
   "cell_type": "markdown",
   "metadata": {},
   "source": [
    "## Group data for ggplot"
   ]
  },
  {
   "cell_type": "code",
   "execution_count": 12,
   "metadata": {},
   "outputs": [],
   "source": [
    "# group and stack data  according to modeltype\n",
    "gdata_pml = cbind(subset(res_all, select= c('site', 'doy', 'et_ob', 'et_pml', 'et_pml_di')),\n",
    "                  data.frame(model_type = rep('PML', dim(res_all)[1])))\n",
    "gdata_sw = cbind(subset(res_all, select= c('site', 'doy', 'et_ob', 'et_sw', 'et_sw_di')),\n",
    "                  data.frame(model_type = rep('SW', dim(res_all)[1])))\n",
    "gdata_ts = cbind(subset(res_all, select= c('site', 'doy', 'et_ob', 'et_ts', 'et_ts_di')),\n",
    "                  data.frame(model_type = rep('TS', dim(res_all)[1])))\n",
    "colnames(gdata_pml) <- colnames(gdata_sw) <- colnames(gdata_ts) <- c('site', 'doy', 'obs', 'pre', 'pre_di', 'modeltype')\n",
    "gdata = rbind(gdata_pml, gdata_sw, gdata_ts)"
   ]
  },
  {
   "cell_type": "code",
   "execution_count": 13,
   "metadata": {},
   "outputs": [
    {
     "data": {
      "text/html": [
       "<table>\n",
       "<thead><tr><th scope=col>site</th><th scope=col>doy</th><th scope=col>obs</th><th scope=col>pre</th><th scope=col>pre_di</th><th scope=col>modeltype</th></tr></thead>\n",
       "<tbody>\n",
       "\t<tr><td>asm      </td><td>1        </td><td>1.5247523</td><td>1.8086399</td><td>1.6840863</td><td>PML      </td></tr>\n",
       "\t<tr><td>asm      </td><td>2        </td><td>1.9170939</td><td>2.2184054</td><td>1.9854180</td><td>PML      </td></tr>\n",
       "\t<tr><td>asm      </td><td>3        </td><td>1.4190002</td><td>1.7272599</td><td>1.5507538</td><td>PML      </td></tr>\n",
       "\t<tr><td>asm      </td><td>4        </td><td>1.4417092</td><td>2.1890870</td><td>2.0793531</td><td>PML      </td></tr>\n",
       "\t<tr><td>asm      </td><td>5        </td><td>0.3113496</td><td>0.5734018</td><td>0.3642785</td><td>PML      </td></tr>\n",
       "\t<tr><td>asm      </td><td>6        </td><td>1.5577685</td><td>1.5870193</td><td>1.4351363</td><td>PML      </td></tr>\n",
       "</tbody>\n",
       "</table>\n"
      ],
      "text/latex": [
       "\\begin{tabular}{r|llllll}\n",
       " site & doy & obs & pre & pre\\_di & modeltype\\\\\n",
       "\\hline\n",
       "\t asm       & 1         & 1.5247523 & 1.8086399 & 1.6840863 & PML      \\\\\n",
       "\t asm       & 2         & 1.9170939 & 2.2184054 & 1.9854180 & PML      \\\\\n",
       "\t asm       & 3         & 1.4190002 & 1.7272599 & 1.5507538 & PML      \\\\\n",
       "\t asm       & 4         & 1.4417092 & 2.1890870 & 2.0793531 & PML      \\\\\n",
       "\t asm       & 5         & 0.3113496 & 0.5734018 & 0.3642785 & PML      \\\\\n",
       "\t asm       & 6         & 1.5577685 & 1.5870193 & 1.4351363 & PML      \\\\\n",
       "\\end{tabular}\n"
      ],
      "text/markdown": [
       "\n",
       "site | doy | obs | pre | pre_di | modeltype | \n",
       "|---|---|---|---|---|---|\n",
       "| asm       | 1         | 1.5247523 | 1.8086399 | 1.6840863 | PML       | \n",
       "| asm       | 2         | 1.9170939 | 2.2184054 | 1.9854180 | PML       | \n",
       "| asm       | 3         | 1.4190002 | 1.7272599 | 1.5507538 | PML       | \n",
       "| asm       | 4         | 1.4417092 | 2.1890870 | 2.0793531 | PML       | \n",
       "| asm       | 5         | 0.3113496 | 0.5734018 | 0.3642785 | PML       | \n",
       "| asm       | 6         | 1.5577685 | 1.5870193 | 1.4351363 | PML       | \n",
       "\n",
       "\n"
      ],
      "text/plain": [
       "  site doy obs       pre       pre_di    modeltype\n",
       "1 asm  1   1.5247523 1.8086399 1.6840863 PML      \n",
       "2 asm  2   1.9170939 2.2184054 1.9854180 PML      \n",
       "3 asm  3   1.4190002 1.7272599 1.5507538 PML      \n",
       "4 asm  4   1.4417092 2.1890870 2.0793531 PML      \n",
       "5 asm  5   0.3113496 0.5734018 0.3642785 PML      \n",
       "6 asm  6   1.5577685 1.5870193 1.4351363 PML      "
      ]
     },
     "metadata": {},
     "output_type": "display_data"
    },
    {
     "data": {
      "text/html": [
       "<table>\n",
       "<thead><tr><th></th><th scope=col>site</th><th scope=col>doy</th><th scope=col>obs</th><th scope=col>pre</th><th scope=col>pre_di</th><th scope=col>modeltype</th></tr></thead>\n",
       "<tbody>\n",
       "\t<tr><th scope=row>6574</th><td>stp     </td><td>360     </td><td>1.948713</td><td>2.558523</td><td>2.561102</td><td>TS      </td></tr>\n",
       "\t<tr><th scope=row>6575</th><td>stp     </td><td>361     </td><td>2.442051</td><td>2.495499</td><td>2.494229</td><td>TS      </td></tr>\n",
       "\t<tr><th scope=row>6576</th><td>stp     </td><td>362     </td><td>2.527676</td><td>2.668248</td><td>2.683154</td><td>TS      </td></tr>\n",
       "\t<tr><th scope=row>6577</th><td>stp     </td><td>363     </td><td>2.544142</td><td>2.839338</td><td>2.856984</td><td>TS      </td></tr>\n",
       "\t<tr><th scope=row>6578</th><td>stp     </td><td>364     </td><td>2.449819</td><td>2.812657</td><td>2.832881</td><td>TS      </td></tr>\n",
       "\t<tr><th scope=row>6579</th><td>stp     </td><td>365     </td><td>2.207245</td><td>2.896925</td><td>2.917568</td><td>TS      </td></tr>\n",
       "</tbody>\n",
       "</table>\n"
      ],
      "text/latex": [
       "\\begin{tabular}{r|llllll}\n",
       "  & site & doy & obs & pre & pre\\_di & modeltype\\\\\n",
       "\\hline\n",
       "\t6574 & stp      & 360      & 1.948713 & 2.558523 & 2.561102 & TS      \\\\\n",
       "\t6575 & stp      & 361      & 2.442051 & 2.495499 & 2.494229 & TS      \\\\\n",
       "\t6576 & stp      & 362      & 2.527676 & 2.668248 & 2.683154 & TS      \\\\\n",
       "\t6577 & stp      & 363      & 2.544142 & 2.839338 & 2.856984 & TS      \\\\\n",
       "\t6578 & stp      & 364      & 2.449819 & 2.812657 & 2.832881 & TS      \\\\\n",
       "\t6579 & stp      & 365      & 2.207245 & 2.896925 & 2.917568 & TS      \\\\\n",
       "\\end{tabular}\n"
      ],
      "text/markdown": [
       "\n",
       "| <!--/--> | site | doy | obs | pre | pre_di | modeltype | \n",
       "|---|---|---|---|---|---|\n",
       "| 6574 | stp      | 360      | 1.948713 | 2.558523 | 2.561102 | TS       | \n",
       "| 6575 | stp      | 361      | 2.442051 | 2.495499 | 2.494229 | TS       | \n",
       "| 6576 | stp      | 362      | 2.527676 | 2.668248 | 2.683154 | TS       | \n",
       "| 6577 | stp      | 363      | 2.544142 | 2.839338 | 2.856984 | TS       | \n",
       "| 6578 | stp      | 364      | 2.449819 | 2.812657 | 2.832881 | TS       | \n",
       "| 6579 | stp      | 365      | 2.207245 | 2.896925 | 2.917568 | TS       | \n",
       "\n",
       "\n"
      ],
      "text/plain": [
       "     site doy obs      pre      pre_di   modeltype\n",
       "6574 stp  360 1.948713 2.558523 2.561102 TS       \n",
       "6575 stp  361 2.442051 2.495499 2.494229 TS       \n",
       "6576 stp  362 2.527676 2.668248 2.683154 TS       \n",
       "6577 stp  363 2.544142 2.839338 2.856984 TS       \n",
       "6578 stp  364 2.449819 2.812657 2.832881 TS       \n",
       "6579 stp  365 2.207245 2.896925 2.917568 TS       "
      ]
     },
     "metadata": {},
     "output_type": "display_data"
    }
   ],
   "source": [
    "head(gdata); tail(gdata)"
   ]
  },
  {
   "cell_type": "code",
   "execution_count": 14,
   "metadata": {},
   "outputs": [],
   "source": [
    "gdata_obs = cbind(subset(gdata, select= c('site', 'doy', 'obs', 'modeltype')),\n",
    "                  data.frame(val_type = rep('Observed', dim(gdata)[1])))\n",
    "gdata_pre = cbind(subset(gdata, select= c('site', 'doy', 'pre', 'modeltype')),\n",
    "                  data.frame(val_type = rep('Predicted without NEDI', dim(gdata)[1])))\n",
    "gdata_pre_di = cbind(subset(gdata, select= c('site', 'doy', 'pre_di', 'modeltype')),\n",
    "                  data.frame(val_type = rep('Predicted with NEDI', dim(gdata)[1])))\n",
    "colnames(gdata_obs) <- colnames(gdata_pre) <- colnames(gdata_pre_di) <- c('site', 'doy', 'value', 'modeltype', 'valuetype')\n",
    "gdatas = rbind(gdata_obs, gdata_pre, gdata_pre_di)"
   ]
  },
  {
   "cell_type": "code",
   "execution_count": 15,
   "metadata": {},
   "outputs": [
    {
     "data": {
      "text/html": [
       "<table>\n",
       "<thead><tr><th scope=col>site</th><th scope=col>doy</th><th scope=col>value</th><th scope=col>modeltype</th><th scope=col>valuetype</th></tr></thead>\n",
       "<tbody>\n",
       "\t<tr><td>asm      </td><td>1        </td><td>1.5247523</td><td>PML      </td><td>Observed </td></tr>\n",
       "\t<tr><td>asm      </td><td>2        </td><td>1.9170939</td><td>PML      </td><td>Observed </td></tr>\n",
       "\t<tr><td>asm      </td><td>3        </td><td>1.4190002</td><td>PML      </td><td>Observed </td></tr>\n",
       "\t<tr><td>asm      </td><td>4        </td><td>1.4417092</td><td>PML      </td><td>Observed </td></tr>\n",
       "\t<tr><td>asm      </td><td>5        </td><td>0.3113496</td><td>PML      </td><td>Observed </td></tr>\n",
       "\t<tr><td>asm      </td><td>6        </td><td>1.5577685</td><td>PML      </td><td>Observed </td></tr>\n",
       "</tbody>\n",
       "</table>\n"
      ],
      "text/latex": [
       "\\begin{tabular}{r|lllll}\n",
       " site & doy & value & modeltype & valuetype\\\\\n",
       "\\hline\n",
       "\t asm       & 1         & 1.5247523 & PML       & Observed \\\\\n",
       "\t asm       & 2         & 1.9170939 & PML       & Observed \\\\\n",
       "\t asm       & 3         & 1.4190002 & PML       & Observed \\\\\n",
       "\t asm       & 4         & 1.4417092 & PML       & Observed \\\\\n",
       "\t asm       & 5         & 0.3113496 & PML       & Observed \\\\\n",
       "\t asm       & 6         & 1.5577685 & PML       & Observed \\\\\n",
       "\\end{tabular}\n"
      ],
      "text/markdown": [
       "\n",
       "site | doy | value | modeltype | valuetype | \n",
       "|---|---|---|---|---|---|\n",
       "| asm       | 1         | 1.5247523 | PML       | Observed  | \n",
       "| asm       | 2         | 1.9170939 | PML       | Observed  | \n",
       "| asm       | 3         | 1.4190002 | PML       | Observed  | \n",
       "| asm       | 4         | 1.4417092 | PML       | Observed  | \n",
       "| asm       | 5         | 0.3113496 | PML       | Observed  | \n",
       "| asm       | 6         | 1.5577685 | PML       | Observed  | \n",
       "\n",
       "\n"
      ],
      "text/plain": [
       "  site doy value     modeltype valuetype\n",
       "1 asm  1   1.5247523 PML       Observed \n",
       "2 asm  2   1.9170939 PML       Observed \n",
       "3 asm  3   1.4190002 PML       Observed \n",
       "4 asm  4   1.4417092 PML       Observed \n",
       "5 asm  5   0.3113496 PML       Observed \n",
       "6 asm  6   1.5577685 PML       Observed "
      ]
     },
     "metadata": {},
     "output_type": "display_data"
    },
    {
     "data": {
      "text/html": [
       "<table>\n",
       "<thead><tr><th></th><th scope=col>site</th><th scope=col>doy</th><th scope=col>value</th><th scope=col>modeltype</th><th scope=col>valuetype</th></tr></thead>\n",
       "<tbody>\n",
       "\t<tr><th scope=row>19732</th><td>stp                </td><td>360                </td><td>2.561102           </td><td>TS                 </td><td>Predicted with NEDI</td></tr>\n",
       "\t<tr><th scope=row>19733</th><td>stp                </td><td>361                </td><td>2.494229           </td><td>TS                 </td><td>Predicted with NEDI</td></tr>\n",
       "\t<tr><th scope=row>19734</th><td>stp                </td><td>362                </td><td>2.683154           </td><td>TS                 </td><td>Predicted with NEDI</td></tr>\n",
       "\t<tr><th scope=row>19735</th><td>stp                </td><td>363                </td><td>2.856984           </td><td>TS                 </td><td>Predicted with NEDI</td></tr>\n",
       "\t<tr><th scope=row>19736</th><td>stp                </td><td>364                </td><td>2.832881           </td><td>TS                 </td><td>Predicted with NEDI</td></tr>\n",
       "\t<tr><th scope=row>19737</th><td>stp                </td><td>365                </td><td>2.917568           </td><td>TS                 </td><td>Predicted with NEDI</td></tr>\n",
       "</tbody>\n",
       "</table>\n"
      ],
      "text/latex": [
       "\\begin{tabular}{r|lllll}\n",
       "  & site & doy & value & modeltype & valuetype\\\\\n",
       "\\hline\n",
       "\t19732 & stp                 & 360                 & 2.561102            & TS                  & Predicted with NEDI\\\\\n",
       "\t19733 & stp                 & 361                 & 2.494229            & TS                  & Predicted with NEDI\\\\\n",
       "\t19734 & stp                 & 362                 & 2.683154            & TS                  & Predicted with NEDI\\\\\n",
       "\t19735 & stp                 & 363                 & 2.856984            & TS                  & Predicted with NEDI\\\\\n",
       "\t19736 & stp                 & 364                 & 2.832881            & TS                  & Predicted with NEDI\\\\\n",
       "\t19737 & stp                 & 365                 & 2.917568            & TS                  & Predicted with NEDI\\\\\n",
       "\\end{tabular}\n"
      ],
      "text/markdown": [
       "\n",
       "| <!--/--> | site | doy | value | modeltype | valuetype | \n",
       "|---|---|---|---|---|---|\n",
       "| 19732 | stp                 | 360                 | 2.561102            | TS                  | Predicted with NEDI | \n",
       "| 19733 | stp                 | 361                 | 2.494229            | TS                  | Predicted with NEDI | \n",
       "| 19734 | stp                 | 362                 | 2.683154            | TS                  | Predicted with NEDI | \n",
       "| 19735 | stp                 | 363                 | 2.856984            | TS                  | Predicted with NEDI | \n",
       "| 19736 | stp                 | 364                 | 2.832881            | TS                  | Predicted with NEDI | \n",
       "| 19737 | stp                 | 365                 | 2.917568            | TS                  | Predicted with NEDI | \n",
       "\n",
       "\n"
      ],
      "text/plain": [
       "      site doy value    modeltype valuetype          \n",
       "19732 stp  360 2.561102 TS        Predicted with NEDI\n",
       "19733 stp  361 2.494229 TS        Predicted with NEDI\n",
       "19734 stp  362 2.683154 TS        Predicted with NEDI\n",
       "19735 stp  363 2.856984 TS        Predicted with NEDI\n",
       "19736 stp  364 2.832881 TS        Predicted with NEDI\n",
       "19737 stp  365 2.917568 TS        Predicted with NEDI"
      ]
     },
     "metadata": {},
     "output_type": "display_data"
    }
   ],
   "source": [
    "head(gdatas); tail(gdatas)"
   ]
  },
  {
   "cell_type": "code",
   "execution_count": 16,
   "metadata": {},
   "outputs": [],
   "source": [
    "gdatas$date = as.Date(gdatas$doy, origin = \"2010-12-31\")\n",
    "gdatas$date = as.POSIXct(gdatas$date)\n",
    "gdatas = gdatas[gdatas$doy<=365,]"
   ]
  },
  {
   "cell_type": "code",
   "execution_count": 17,
   "metadata": {},
   "outputs": [],
   "source": [
    "pdata = gdatas\n",
    "# Calculate ET 7-day moving average \n",
    "pdata$et_ma = NA\n",
    "sites = c('asm', 'dap', 'das', 'dry', 'how', 'stp')\n",
    "modeltypes = c('PML', 'SW', 'TS')\n",
    "valuetypes = c('Observed', 'Predicted without NEDI', 'Predicted with NEDI')\n",
    "for (i in sites)\n",
    "    {\n",
    "     for ( j in modeltypes)\n",
    "         {\n",
    "          for ( k in valuetypes)\n",
    "             {\n",
    "              pdata[pdata$site == i & pdata$modeltype == j & pdata$valuetype == k,]$et_ma = \n",
    "                 movingAverage(pdata[pdata$site == i & pdata$modeltype == j & pdata$valuetype == k, ]$value, 7, TRUE)\n",
    "              }\n",
    "     }\n",
    "}\n",
    "                                                      "
   ]
  },
  {
   "cell_type": "code",
   "execution_count": 18,
   "metadata": {},
   "outputs": [
    {
     "data": {
      "text/plain": [
       "     site                doy          value         modeltype \n",
       " Length:19692       Min.   :  1   Min.   :0.05955   PML:6564  \n",
       " Class :character   1st Qu.: 92   1st Qu.:0.88834   SW :6564  \n",
       " Mode  :character   Median :183   Median :1.85495   TS :6564  \n",
       "                    Mean   :183   Mean   :2.09097             \n",
       "                    3rd Qu.:274   3rd Qu.:3.26349             \n",
       "                    Max.   :365   Max.   :5.97686             \n",
       "                  valuetype         date                         et_ma        \n",
       " Observed              :6564   Min.   :2011-01-01 08:00:00   Min.   :0.09493  \n",
       " Predicted without NEDI:6564   1st Qu.:2011-04-02 08:00:00   1st Qu.:0.89942  \n",
       " Predicted with NEDI   :6564   Median :2011-07-02 08:00:00   Median :1.85940  \n",
       "                               Mean   :2011-07-02 08:36:51   Mean   :2.09090  \n",
       "                               3rd Qu.:2011-10-01 08:00:00   3rd Qu.:3.27775  \n",
       "                               Max.   :2011-12-31 08:00:00   Max.   :5.15992  "
      ]
     },
     "metadata": {},
     "output_type": "display_data"
    }
   ],
   "source": [
    "summary(pdata)"
   ]
  },
  {
   "cell_type": "markdown",
   "metadata": {},
   "source": [
    "pdata[pdata$site == 'dry' & pdata$valuetype == 'observed',]$doy\n",
    "###### doy 27 is missing at ade"
   ]
  },
  {
   "cell_type": "code",
   "execution_count": 19,
   "metadata": {},
   "outputs": [
    {
     "data": {
      "text/plain": [
       "     site                doy          value         modeltype \n",
       " Length:19701       Min.   :  1   Min.   :0.05955   PML:6567  \n",
       " Class :character   1st Qu.: 92   1st Qu.:0.88834   SW :6567  \n",
       " Mode  :character   Median :183   Median :1.85495   TS :6567  \n",
       "                    Mean   :183   Mean   :2.09097             \n",
       "                    3rd Qu.:274   3rd Qu.:3.26349             \n",
       "                    Max.   :365   Max.   :5.97686             \n",
       "                                  NA's   :9                   \n",
       "                  valuetype         date                         et_ma        \n",
       " Observed              :6567   Min.   :2011-01-01 08:00:00   Min.   :0.09493  \n",
       " Predicted without NEDI:6567   1st Qu.:2011-04-02 08:00:00   1st Qu.:0.89942  \n",
       " Predicted with NEDI   :6567   Median :2011-07-02 08:00:00   Median :1.85940  \n",
       "                               Mean   :2011-07-02 06:54:12   Mean   :2.09090  \n",
       "                               3rd Qu.:2011-10-01 08:00:00   3rd Qu.:3.27775  \n",
       "                               Max.   :2011-12-31 08:00:00   Max.   :5.15992  \n",
       "                                                             NA's   :9        "
      ]
     },
     "metadata": {},
     "output_type": "display_data"
    }
   ],
   "source": [
    "new_df =data.frame(site = rep('dry',9), doy = rep(27,9), value = rep(NA,9), modeltype = rep(c('PML','SW', 'TS'),3), \n",
    "                   valuetype = c(rep('Observed', 3), rep('Predicted without NEDI', 3), rep('Predicted with NEDI', 3)), \n",
    "                   date = rep(as.Date('2011-01-27'), 9), et_ma = rep(NA,9))\n",
    "pdata = rbind(pdata, new_df)\n",
    "summary(pdata)"
   ]
  },
  {
   "cell_type": "code",
   "execution_count": 20,
   "metadata": {},
   "outputs": [],
   "source": [
    "# set facet order\n",
    "pdata$siten = NA\n",
    "pdata[pdata$site=='how', ]$siten = 'AU-How'\n",
    "pdata[pdata$site=='dap', ]$siten = 'AU-DaP'\n",
    "pdata[pdata$site=='das', ]$siten = 'AU-DaS'\n",
    "pdata[pdata$site=='dry', ]$siten = 'AU-Dry'\n",
    "pdata[pdata$site=='stp', ]$siten = 'AU-StP'\n",
    "pdata[pdata$site=='asm', ]$siten = 'AU-ASM'\n",
    "pdata$siten <- factor(pdata$siten, level=c('AU-How','AU-DaS','AU-Dry', 'AU-ASM', 'AU-DaP','AU-StP'),\n",
    "                    labels=c('AU-How','AU-DaS','AU-Dry', 'AU-ASM', 'AU-DaP','AU-StP'))\n",
    "pdata$modeltype <- factor(pdata$modeltype, level=c('SW', 'PML', 'TS'), labels=c('SW', 'PML', 'TS'))"
   ]
  },
  {
   "cell_type": "code",
   "execution_count": 21,
   "metadata": {},
   "outputs": [],
   "source": [
    "# remove data in AU-DaP and AU-Stp for TS model since there are not three layers\n",
    "pdata[pdata$site == 'dap' & pdata$modeltype == 'TS', ]$et_ma = NA\n",
    "pdata[pdata$site == 'stp' & pdata$modeltype == 'TS', ]$et_ma = NA"
   ]
  },
  {
   "cell_type": "markdown",
   "metadata": {},
   "source": [
    "### Function plot moving average"
   ]
  },
  {
   "cell_type": "code",
   "execution_count": 22,
   "metadata": {},
   "outputs": [],
   "source": [
    "pdata = na.omit(pdata)"
   ]
  },
  {
   "cell_type": "code",
   "execution_count": 23,
   "metadata": {},
   "outputs": [],
   "source": [
    "col_model = c('black', 'green3', 'red')"
   ]
  },
  {
   "cell_type": "code",
   "execution_count": 24,
   "metadata": {},
   "outputs": [
    {
     "data": {
      "text/html": [
       "'English_United States.1252'"
      ],
      "text/latex": [
       "'English\\_United States.1252'"
      ],
      "text/markdown": [
       "'English_United States.1252'"
      ],
      "text/plain": [
       "[1] \"English_United States.1252\""
      ]
     },
     "metadata": {},
     "output_type": "display_data"
    }
   ],
   "source": [
    "Sys.setlocale(\"LC_TIME\", \"English\") # Windows"
   ]
  },
  {
   "cell_type": "code",
   "execution_count": 25,
   "metadata": {},
   "outputs": [],
   "source": [
    "#options(repr.plot.with=10, repr.plot.height =9)\n",
    "ts_scatter <- ggplot(aes(x = date), data = pdata)+  \n",
    "  #geom_hline(yintercept=0, lty=1, colour = gray(0.8)) +\n",
    "    facet_grid(siten ~ modeltype) + \n",
    "  geom_line(aes(y = et_ma, colour= factor(valuetype)), size=0.2) +\n",
    "  scale_y_continuous(\n",
    "    name = expression(paste('ET observed vs. predicted  (mm d'^'-1',')')), \n",
    "    limits = c(0, 6)) +\n",
    "  theme_bw()+\n",
    "  theme(panel.grid.major = element_blank(),\n",
    "    panel.grid.minor = element_blank()) +\n",
    "  scale_color_manual(values=col_model)  \n",
    "\n",
    "ts_scatter2 = ts_scatter +\n",
    "  theme(legend.position = \"bottom\") +\n",
    "  scale_x_datetime(labels = date_format(\"%b\"),\n",
    "                 breaks = seq(as.POSIXct(\"2011-01-01 08:00:00\"),\n",
    "                 as.POSIXct(\"2011-12-31 08:00:00\"), \"1 months\")) +\n",
    "  xlab('Date')+\n",
    "  theme(axis.text.x = element_text(angle=70, hjust=0.8)) +\n",
    "  labs(color=\"\") \n",
    "\n",
    "#ts_scatter2"
   ]
  },
  {
   "cell_type": "code",
   "execution_count": 27,
   "metadata": {},
   "outputs": [
    {
     "data": {
      "text/html": [
       "<strong>png:</strong> 2"
      ],
      "text/latex": [
       "\\textbf{png:} 2"
      ],
      "text/markdown": [
       "**png:** 2"
      ],
      "text/plain": [
       "png \n",
       "  2 "
      ]
     },
     "metadata": {},
     "output_type": "display_data"
    }
   ],
   "source": [
    "model_name ='6sites'\n",
    "postscript(paste0('Fig.6_et_obs_pre_', model_name,'.eps'),width=6, height=6)\n",
    "print(ts_scatter2)\n",
    "dev.off()\n"
   ]
  },
  {
   "cell_type": "markdown",
   "metadata": {},
   "source": [
    "## Plot seasonal preciptation"
   ]
  },
  {
   "cell_type": "code",
   "execution_count": 27,
   "metadata": {},
   "outputs": [],
   "source": [
    "month12 = seq(as.POSIXct(\"2011-01-01 08:00:00\"),\n",
    "                 as.POSIXct(\"2011-12-31 08:00:00\"), \"1 months\")"
   ]
  },
  {
   "cell_type": "code",
   "execution_count": 28,
   "metadata": {},
   "outputs": [],
   "source": [
    "# assign monthly precipitation to daily values\n",
    "mrain = read.csv(file = paste0(workdir,'data/monthly_precipitation_6sites.csv'))"
   ]
  },
  {
   "cell_type": "code",
   "execution_count": 29,
   "metadata": {},
   "outputs": [],
   "source": [
    "mrain$date = rep(month12, 6)"
   ]
  },
  {
   "cell_type": "code",
   "execution_count": 30,
   "metadata": {},
   "outputs": [
    {
     "data": {
      "text/html": [
       "<table>\n",
       "<thead><tr><th scope=col>X</th><th scope=col>month</th><th scope=col>site</th><th scope=col>precip</th><th scope=col>date</th></tr></thead>\n",
       "<tbody>\n",
       "\t<tr><td>1                  </td><td>1                  </td><td>asm                </td><td>90.828571          </td><td>2011-01-01 08:00:00</td></tr>\n",
       "\t<tr><td>2                  </td><td>2                  </td><td>asm                </td><td>45.057143          </td><td>2011-02-01 08:00:00</td></tr>\n",
       "\t<tr><td>3                  </td><td>3                  </td><td>asm                </td><td>28.428571          </td><td>2011-03-01 08:00:00</td></tr>\n",
       "\t<tr><td>4                  </td><td>4                  </td><td>asm                </td><td>15.085714          </td><td>2011-04-01 08:00:00</td></tr>\n",
       "\t<tr><td>5                  </td><td>5                  </td><td>asm                </td><td>12.314286          </td><td>2011-05-01 08:00:00</td></tr>\n",
       "\t<tr><td>6                  </td><td>6                  </td><td>asm                </td><td> 4.285714          </td><td>2011-06-01 08:00:00</td></tr>\n",
       "</tbody>\n",
       "</table>\n"
      ],
      "text/latex": [
       "\\begin{tabular}{r|lllll}\n",
       " X & month & site & precip & date\\\\\n",
       "\\hline\n",
       "\t 1                   & 1                   & asm                 & 90.828571           & 2011-01-01 08:00:00\\\\\n",
       "\t 2                   & 2                   & asm                 & 45.057143           & 2011-02-01 08:00:00\\\\\n",
       "\t 3                   & 3                   & asm                 & 28.428571           & 2011-03-01 08:00:00\\\\\n",
       "\t 4                   & 4                   & asm                 & 15.085714           & 2011-04-01 08:00:00\\\\\n",
       "\t 5                   & 5                   & asm                 & 12.314286           & 2011-05-01 08:00:00\\\\\n",
       "\t 6                   & 6                   & asm                 &  4.285714           & 2011-06-01 08:00:00\\\\\n",
       "\\end{tabular}\n"
      ],
      "text/markdown": [
       "\n",
       "X | month | site | precip | date | \n",
       "|---|---|---|---|---|---|\n",
       "| 1                   | 1                   | asm                 | 90.828571           | 2011-01-01 08:00:00 | \n",
       "| 2                   | 2                   | asm                 | 45.057143           | 2011-02-01 08:00:00 | \n",
       "| 3                   | 3                   | asm                 | 28.428571           | 2011-03-01 08:00:00 | \n",
       "| 4                   | 4                   | asm                 | 15.085714           | 2011-04-01 08:00:00 | \n",
       "| 5                   | 5                   | asm                 | 12.314286           | 2011-05-01 08:00:00 | \n",
       "| 6                   | 6                   | asm                 |  4.285714           | 2011-06-01 08:00:00 | \n",
       "\n",
       "\n"
      ],
      "text/plain": [
       "  X month site precip    date               \n",
       "1 1 1     asm  90.828571 2011-01-01 08:00:00\n",
       "2 2 2     asm  45.057143 2011-02-01 08:00:00\n",
       "3 3 3     asm  28.428571 2011-03-01 08:00:00\n",
       "4 4 4     asm  15.085714 2011-04-01 08:00:00\n",
       "5 5 5     asm  12.314286 2011-05-01 08:00:00\n",
       "6 6 6     asm   4.285714 2011-06-01 08:00:00"
      ]
     },
     "metadata": {},
     "output_type": "display_data"
    }
   ],
   "source": [
    "head(mrain)"
   ]
  },
  {
   "cell_type": "code",
   "execution_count": 31,
   "metadata": {},
   "outputs": [],
   "source": [
    "pdata = mrain\n",
    "# set facet order\n",
    "pdata$siten = NA\n",
    "pdata[pdata$site=='how', ]$siten = 'AU-How'\n",
    "pdata[pdata$site=='dap', ]$siten = 'AU-DaP'\n",
    "pdata[pdata$site=='das', ]$siten = 'AU-DaS'\n",
    "pdata[pdata$site=='dry', ]$siten = 'AU-Dry'\n",
    "pdata[pdata$site=='stp', ]$siten = 'AU-StP'\n",
    "pdata[pdata$site=='asm', ]$siten = 'AU-ASM'\n",
    "pdata$siten <- factor(pdata$siten, level=c('AU-How','AU-DaS','AU-Dry', 'AU-ASM', 'AU-DaP','AU-StP'),\n",
    "                    labels=c('AU-How','AU-DaS','AU-Dry', 'AU-ASM', 'AU-DaP','AU-StP'))"
   ]
  },
  {
   "cell_type": "code",
   "execution_count": 32,
   "metadata": {},
   "outputs": [],
   "source": [
    "#options(repr.plot.with=10, repr.plot.height =9)\n",
    "ts_scatter <- ggplot(aes(x = date), data = pdata)+  \n",
    "  #geom_hline(yintercept=0, lty=1, colour = gray(0.8)) +\n",
    "    facet_wrap(~siten, ncol=3) + \n",
    "  geom_bar(mapping = aes(x = date, y = precip ), stat = \"identity\", colour = gray(0.4), fill = gray(0.4))+ \n",
    "  scale_y_continuous(\n",
    "    name = 'Monthly precipitation (mm)', \n",
    "    #sec.axis = sec_axis(~ . * 300 , name = \"Monthly  precipitation (mm)\"), \n",
    "    limits = c(0, 500)) +\n",
    "  theme_bw()+\n",
    "  theme(panel.grid.major = element_blank(),\n",
    "    panel.grid.minor = element_blank()) +\n",
    "  scale_color_manual(values=col_model)  \n",
    "\n",
    "ts_scatter2 = ts_scatter +\n",
    "  theme(legend.position = \"bottom\") +\n",
    "  scale_x_datetime(labels = date_format(\"%b\"),\n",
    "                 breaks = seq(as.POSIXct(\"2011-01-01 08:00:00\"),\n",
    "                 as.POSIXct(\"2011-12-31 08:00:00\"), \"1 months\")) +\n",
    "  xlab('Date')+\n",
    "  theme(axis.text.x = element_text(angle=70, hjust=0.8)) +\n",
    "  labs(color=\"\") \n",
    "\n",
    "#ts_scatter2"
   ]
  },
  {
   "cell_type": "code",
   "execution_count": 33,
   "metadata": {},
   "outputs": [
    {
     "data": {
      "text/html": [
       "<strong>png:</strong> 2"
      ],
      "text/latex": [
       "\\textbf{png:} 2"
      ],
      "text/markdown": [
       "**png:** 2"
      ],
      "text/plain": [
       "png \n",
       "  2 "
      ]
     },
     "metadata": {},
     "output_type": "display_data"
    }
   ],
   "source": [
    "model_name ='6sites'\n",
    "postscript(paste0('Fig.S4_monthly_precip_', model_name,'2.eps'),width=8, height=5)\n",
    "print(ts_scatter2)\n",
    "dev.off()\n"
   ]
  }
 ],
 "metadata": {
  "kernelspec": {
   "display_name": "R",
   "language": "R",
   "name": "ir"
  },
  "language_info": {
   "codemirror_mode": "r",
   "file_extension": ".r",
   "mimetype": "text/x-r-source",
   "name": "R",
   "pygments_lexer": "r",
   "version": "3.5.1"
  }
 },
 "nbformat": 4,
 "nbformat_minor": 2
}

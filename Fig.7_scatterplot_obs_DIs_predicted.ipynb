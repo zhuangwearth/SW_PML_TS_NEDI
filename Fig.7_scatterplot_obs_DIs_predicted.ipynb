{
 "cells": [
  {
   "cell_type": "markdown",
   "metadata": {},
   "source": [
    "# Figure 5. Scatterplots of ET observed vs. predicted by models"
   ]
  },
  {
   "cell_type": "markdown",
   "metadata": {},
   "source": [
    "## load data"
   ]
  },
  {
   "cell_type": "code",
   "execution_count": 1,
   "metadata": {},
   "outputs": [],
   "source": [
    "workdir = 'D:/Field/NATT/modeling_et_afm_v16d/' # this maybe need change according where you place the directory of modeling_et\n",
    "# Load data\n",
    "fdata = read.csv(paste0(workdir, 'output/simulation_results.csv'))\n",
    "fdata2 = read.csv(paste0(workdir, 'output/simulation_results_DIs.csv'))"
   ]
  },
  {
   "cell_type": "code",
   "execution_count": 2,
   "metadata": {},
   "outputs": [],
   "source": [
    "# combine predicted et from odels\n",
    "edata = cbind(fdata[,1:2], # 1 for site and 2 for date\n",
    "              fe_qcflag = fdata$fe_qcflag,   # latent heat flux quality flag\n",
    "              ebr       = fdata$ebr,         # energy balance ratio\n",
    "              et_ob     = fdata$et_ob,       # the observed ET\n",
    "              et_pml    = fdata$et_pml,      # total ET predicted by PML model\n",
    "              et_sw     = fdata$et_sw,       # total ET predicted by SW model\n",
    "              et_ts     = fdata$et_ts,       # total ET predicted by TS model\n",
    "              et_pml_di = fdata2$et_pml_di,   # total ET predicted by PML-DI model\n",
    "              et_sw_di  = fdata2$et_sw_di,    # total ET predicted by SW-DI model\n",
    "              et_ts_di  = fdata2$et_ts_di)    # total ET predicted by TS-DI model              \n",
    "# remove NA records\n",
    "edata = na.omit(edata)\n",
    "# remove gap-filling percent >0.2\n",
    "edata = subset(edata, fe_qcflag<0.2 & ebr > 0.7 & ebr < 1.3)"
   ]
  },
  {
   "cell_type": "code",
   "execution_count": 3,
   "metadata": {},
   "outputs": [],
   "source": [
    "# 数据质量控制\n",
    "edata$year = as.numeric(strftime(as.Date(edata$date), format='%Y'))\n",
    "edata = edata[edata$site != 'stp' | edata$year !=2009,]\n",
    "edata = edata[edata$site != 'stp' | edata$year !=2015,]"
   ]
  },
  {
   "cell_type": "code",
   "execution_count": 4,
   "metadata": {},
   "outputs": [],
   "source": [
    "# remove data in AU-DaP and AU-Stp for TS model since there are not three layers\n",
    "edata[edata$site == 'dap' , ]$et_ts = NA\n",
    "edata[edata$site == 'stp' , ]$et_ts = NA\n",
    "edata[edata$site == 'dap' , ]$et_ts_di = NA\n",
    "edata[edata$site == 'stp' , ]$et_ts_di = NA"
   ]
  },
  {
   "cell_type": "code",
   "execution_count": 5,
   "metadata": {},
   "outputs": [],
   "source": [
    "# season groups\n",
    "edata$month <- as.numeric(strftime(as.Date(edata$date),\"%m\"))\n",
    "edata$season <- NA\n",
    "seasons = c('Wet season', 'Brown-down period', 'Dry season', 'Green-up period')\n",
    "\n",
    "edata[edata$month==12| edata$month<=3, ]$season<- seasons[1]\n",
    "edata[edata$month==4, ]$season<- seasons[2]\n",
    "edata[edata$month>=5  & edata$month<=10, ]$season <- seasons[3]\n",
    "edata[edata$month==11, ]$season <- seasons[4]\n",
    "\n",
    "name_cols = c('site','season', 'et_ob', 'et_pr', 'modeltype')\n",
    "# pml\n",
    "pdata1 <- data.frame(edata$site, edata$season, \n",
    "                    edata$et_ob, edata$et_pml, rep('PML', length(edata$et_ob)))\n",
    "colnames(pdata1) = name_cols\n",
    "# sw\n",
    "pdata2 <- data.frame(edata$site, edata$season,\n",
    "                     edata$et_ob, edata$et_sw, rep('SW', length(edata$et_ob)))\n",
    "colnames(pdata2) = name_cols\n",
    "# ts\n",
    "pdata3 <- data.frame(edata$site, edata$season, \n",
    "                    edata$et_ob, edata$et_ts, rep('TS', length(edata$et_ob)))\n",
    "colnames(pdata3) = name_cols\n",
    "# PML-DI\n",
    "pdata4 <- data.frame(edata$site, edata$season, \n",
    "                    edata$et_ob, edata$et_pml_di, rep('PML-DI', length(edata$et_ob)))\n",
    "colnames(pdata4) = name_cols\n",
    "# SW-DI\n",
    "pdata5 <- data.frame(edata$site, edata$season, \n",
    "                    edata$et_ob, edata$et_sw_di, rep('SW-DI', length(edata$et_ob)))\n",
    "colnames(pdata5) = name_cols\n",
    "# TS-DI\n",
    "pdata6 <- data.frame(edata$site, edata$season, \n",
    "                    edata$et_ob, edata$et_ts_di, rep('TS-DI', length(edata$et_ob)))\n",
    "colnames(pdata6) = name_cols\n",
    "\n",
    "pdata <- rbind(pdata1, pdata2, pdata3, pdata4, pdata5, pdata6)\n",
    "pdata$siten = NA\n",
    "pdata[pdata$site=='how', ]$siten = 'AU-How'\n",
    "pdata[pdata$site=='das', ]$siten = 'AU-DaS'\n",
    "pdata[pdata$site=='dry', ]$siten = 'AU-Dry'\n",
    "pdata[pdata$site=='asm', ]$siten = 'AU-ASM'\n",
    "pdata[pdata$site=='dap', ]$siten = 'AU-DaP'\n",
    "pdata[pdata$site=='stp', ]$siten = 'AU-StP'"
   ]
  },
  {
   "cell_type": "code",
   "execution_count": 6,
   "metadata": {},
   "outputs": [],
   "source": [
    "pdata$siten <- factor(pdata$siten, level=c('AU-How', 'AU-DaS','AU-Dry', 'AU-ASM', 'AU-DaP','AU-StP'),\n",
    "                    labels=c('AU-How', 'AU-DaS','AU-Dry', 'AU-ASM', 'AU-DaP','AU-StP'))\n",
    "pdata$season <- factor(pdata$season, level=seasons, labels=seasons)\n",
    "modeltypes = c('SW', 'SW-DI', 'PML', 'PML-DI', 'TS', 'TS-DI')\n",
    "pdata$modeltype = factor(pdata$modeltype, level=modeltypes, labels=modeltypes)\n",
    "# store data for ploting figure \n",
    "# write.csv(pdata, file = 'fig5_pdata.csv')"
   ]
  },
  {
   "cell_type": "code",
   "execution_count": 7,
   "metadata": {},
   "outputs": [],
   "source": [
    "col_season = c('#339900', #'Wet season'\n",
    "               '#996600',  #'Brown-down period'\n",
    "               '#CCCC33',  #'Dry season'\n",
    "               '#FF0033')  #'Green-up period'         "
   ]
  },
  {
   "cell_type": "code",
   "execution_count": 8,
   "metadata": {},
   "outputs": [
    {
     "name": "stderr",
     "output_type": "stream",
     "text": [
      "Warning message:\n",
      "\"package 'ggplot2' was built under R version 3.5.3\""
     ]
    }
   ],
   "source": [
    "#   plot\n",
    "library(ggplot2)\n",
    "\n",
    "et_scatter <- ggplot(aes(x = et_ob , y = et_pr), data = pdata)+ \n",
    "  # facet_grid(modeltype ~ siten) +\n",
    "  facet_grid(siten ~ modeltype ) +\n",
    "  geom_abline(slope=1,lty=2, intercept=0, col='grey') + \n",
    "  geom_point(size=0.1,shape=1,aes(col=season)) +\n",
    "  geom_smooth(method=lm, lwd = 0.8, col='gray2') + \n",
    "  coord_fixed() +\n",
    "  theme_bw() +\n",
    "  theme(panel.grid.major = element_blank(),\n",
    "    panel.grid.minor = element_blank()) +\n",
    "  scale_color_manual(values=col_season) + \n",
    "  scale_x_continuous(limit=c(0, 7)) + scale_y_continuous(limit=c(0, 7))"
   ]
  },
  {
   "cell_type": "code",
   "execution_count": 9,
   "metadata": {},
   "outputs": [],
   "source": [
    "et_scatter2 <- et_scatter +\n",
    "  xlab(expression(paste('Observed ET (mm d'^'-1',')')))+\n",
    "  ylab(expression(paste('Predicted  ET (mm d'^'-1',')'))) +\n",
    "  theme(legend.position = \"bottom\") +\n",
    "  labs(color=\" \")"
   ]
  },
  {
   "cell_type": "code",
   "execution_count": 10,
   "metadata": {},
   "outputs": [
    {
     "name": "stderr",
     "output_type": "stream",
     "text": [
      "Warning message:\n",
      "\"Removed 6457 rows containing non-finite values (stat_smooth).\"Warning message:\n",
      "\"Removed 6457 rows containing missing values (geom_point).\""
     ]
    },
    {
     "data": {
      "text/html": [
       "<strong>png:</strong> 2"
      ],
      "text/latex": [
       "\\textbf{png:} 2"
      ],
      "text/markdown": [
       "**png:** 2"
      ],
      "text/plain": [
       "png \n",
       "  2 "
      ]
     },
     "metadata": {},
     "output_type": "display_data"
    }
   ],
   "source": [
    "pdf(\"Fig.7_scatter_obs_predict_6models.pdf\",width=9, height=9)\n",
    "print(et_scatter2)\n",
    "dev.off()"
   ]
  },
  {
   "cell_type": "code",
   "execution_count": 11,
   "metadata": {},
   "outputs": [
    {
     "name": "stderr",
     "output_type": "stream",
     "text": [
      "Warning message:\n",
      "\"Removed 6457 rows containing non-finite values (stat_smooth).\"Warning message:\n",
      "\"Removed 6457 rows containing missing values (geom_point).\"Warning message in grid.Call.graphics(C_polygon, x$x, x$y, index):\n",
      "\"此装置不支持半透明：每一页将被报告一次\""
     ]
    },
    {
     "data": {
      "text/html": [
       "<strong>png:</strong> 2"
      ],
      "text/latex": [
       "\\textbf{png:} 2"
      ],
      "text/markdown": [
       "**png:** 2"
      ],
      "text/plain": [
       "png \n",
       "  2 "
      ]
     },
     "metadata": {},
     "output_type": "display_data"
    }
   ],
   "source": [
    "postscript(\"Fig.7_scatter_obs_predict_6models.eps\",width=7, height=9)\n",
    "print(et_scatter2)\n",
    "dev.off()"
   ]
  }
 ],
 "metadata": {
  "kernelspec": {
   "display_name": "R",
   "language": "R",
   "name": "ir"
  },
  "language_info": {
   "codemirror_mode": "r",
   "file_extension": ".r",
   "mimetype": "text/x-r-source",
   "name": "R",
   "pygments_lexer": "r",
   "version": "3.5.1"
  }
 },
 "nbformat": 4,
 "nbformat_minor": 2
}

{
 "cells": [
  {
   "cell_type": "markdown",
   "metadata": {},
   "source": [
    "# Table 3. Model performance"
   ]
  },
  {
   "cell_type": "code",
   "execution_count": 1,
   "metadata": {},
   "outputs": [],
   "source": [
    "# function for model evaluation\n",
    "F_model_evals = function(tmp) # tmp is a data.frame containing two columme: obs and pre\n",
    "                 {\n",
    "                  d_lm = with(tmp,lm(pre ~ obs))\n",
    "                  model_evals = c(summary(d_lm)$r.squared,                              # R2\n",
    "                                  d_lm$coefficients[2],                                 # Slope \n",
    "                                  d_lm$coefficients[1],                                 # intercept\n",
    "                                  (sum((tmp$obs - tmp$pre)^2)/dim(tmp)[1])^0.5,         # RMSE\n",
    "                                  dim(tmp)[1]                                           # N\n",
    "                                  )                                            \n",
    "                  }"
   ]
  },
  {
   "cell_type": "code",
   "execution_count": 2,
   "metadata": {},
   "outputs": [],
   "source": [
    "nsite = c('how', 'das', 'dry', 'asm', 'dap','stp')\n",
    "lens = length(nsite)+3\n",
    "mevals <- data.frame(r.squared=rep(NA,lens),  slp=rep(NA,lens), itcp=rep(NA,lens), \n",
    "                     rmse = rep(NA,lens),  num=rep(NA,lens))\n",
    "rownames(mevals) = c(nsite, 'all', 'savanna', 'pasture')"
   ]
  },
  {
   "cell_type": "markdown",
   "metadata": {},
   "source": [
    "## load simulation results of PML, SW and TS models"
   ]
  },
  {
   "cell_type": "code",
   "execution_count": 3,
   "metadata": {},
   "outputs": [],
   "source": [
    "workdir = 'D:/Field/NATT/modeling_et_afm_v16d/' # this maybe need change according where you place the directory of modeling_et\n",
    "\n",
    "# Load data\n",
    "fdata = read.csv(paste0(workdir, 'output/simulation_results.csv'))\n",
    "\n",
    "# Load DIs data\n",
    "fdata_di = read.csv(paste0(workdir, 'output/simulation_results_DIs.csv'))"
   ]
  },
  {
   "cell_type": "code",
   "execution_count": 4,
   "metadata": {},
   "outputs": [],
   "source": [
    "# combine predicted et from the three models\n",
    "edata = cbind(fdata[,1:2], # 1 for site and 2 for date\n",
    "              fe_qcflag = fdata$fe_qcflag,   # latent heat flux quality flag\n",
    "              ebr       = fdata$ebr,         # energy balance ratio\n",
    "              et_ob     = fdata$et_ob,      # the observed ET\n",
    "              et_pml    = fdata$et_pml,      # total ET predicted by PML model\n",
    "              et_sw     = fdata$et_sw,       # total ET predicted by SW model\n",
    "              et_ts     = fdata$et_ts,       # total ET predicted by TS model\n",
    "              et_pml_di = fdata_di$et_pml_di,      # total ET predicted by PML-DI model\n",
    "              et_sw_di  = fdata_di$et_sw_di,       # total ET predicted by SW-DI model\n",
    "              et_ts_di  = fdata_di$et_ts_di)      # total ET predicted by TS-DI model)                "
   ]
  },
  {
   "cell_type": "code",
   "execution_count": 5,
   "metadata": {},
   "outputs": [],
   "source": [
    "# data quality control\n",
    "# remove stp years 2009 and 2015 when soil water content observation is abnormal.\n",
    "edata$year = as.numeric(strftime(as.Date(edata$date), format='%Y'))\n",
    "edata = edata[edata$site != 'stp' | edata$year !=2009,]\n",
    "edata = edata[edata$site != 'stp' | edata$year !=2015,]"
   ]
  },
  {
   "cell_type": "code",
   "execution_count": 6,
   "metadata": {},
   "outputs": [],
   "source": [
    "# remove NA records\n",
    "edata = na.omit(edata)\n",
    "# remove gap-filling percent >0.2\n",
    "edata = subset(edata, fe_qcflag<0.2 & et_ob >0 & ebr > 0.7 & ebr < 1.3)"
   ]
  },
  {
   "cell_type": "markdown",
   "metadata": {},
   "source": [
    "# evaluate model performance"
   ]
  },
  {
   "cell_type": "code",
   "execution_count": 7,
   "metadata": {},
   "outputs": [],
   "source": [
    "## (1) evaluate model performance of pml model\n",
    "# PML \n",
    "mevals1 = mevals\n",
    "# each site\n",
    "for (i in unique(nsite))\n",
    "{ adata = edata[edata$site == i, ]\n",
    "  tmp = data.frame(obs = adata$et_ob,\n",
    "                   pre = adata$et_pml)\n",
    "  mevals1[i,] = F_model_evals(tmp)\n",
    "}\n",
    "# all site\n",
    "  tmp = data.frame(obs = edata$et_ob,\n",
    "                   pre = edata$et_pml)\n",
    "  mevals1[7,] = F_model_evals(tmp)\n",
    "# all savanna sites\n",
    "  data_sub = subset(edata, site == 'asm' | site == 'das' | site == 'dry' | site == 'how')\n",
    "  tmp = data.frame(obs = data_sub$et_ob,\n",
    "                   pre = data_sub$et_pml)\n",
    "  mevals1[8,] = F_model_evals(tmp)\n",
    "# group: pasture sites\n",
    "  data_sub = subset(edata, site == 'dap' | site == 'stp')\n",
    "  tmp = data.frame(obs = data_sub$et_ob,\n",
    "                   pre = data_sub$et_pml)\n",
    "  mevals1[9,] = F_model_evals(tmp)"
   ]
  },
  {
   "cell_type": "code",
   "execution_count": 8,
   "metadata": {},
   "outputs": [],
   "source": [
    "# SW\n",
    "mevals2 = mevals\n",
    "# each site\n",
    "for (i in unique(nsite))\n",
    "{ adata = edata[edata$site == i, ]\n",
    "  tmp = data.frame(obs = adata$et_ob,\n",
    "                   pre = adata$et_sw)\n",
    "  mevals2[i,] = F_model_evals(tmp)\n",
    "}\n",
    "# all site\n",
    "  tmp = data.frame(obs = edata$et_ob,\n",
    "                   pre = edata$et_sw)\n",
    "  mevals2[7,] = F_model_evals(tmp)\n",
    "# all savanna sites\n",
    "  data_sub = subset(edata, site == 'asm' | site == 'das' | site == 'dry' | site == 'how')\n",
    "  tmp = data.frame(obs = data_sub$et_ob,\n",
    "                   pre = data_sub$et_sw)\n",
    "  mevals2[8,] = F_model_evals(tmp)\n",
    "# group: pasture sites\n",
    "  data_sub = subset(edata, site == 'dap' | site == 'stp')\n",
    "  tmp = data.frame(obs = data_sub$et_ob,\n",
    "                   pre = data_sub$et_sw)\n",
    "  mevals2[9,] = F_model_evals(tmp)"
   ]
  },
  {
   "cell_type": "code",
   "execution_count": 9,
   "metadata": {},
   "outputs": [],
   "source": [
    "# TS\n",
    "mevals3 = mevals\n",
    "# each site\n",
    "for (i in unique(nsite[1:4]))\n",
    "{ adata = edata[edata$site == i, ]\n",
    "  tmp = data.frame(obs = adata$et_ob,\n",
    "                   pre = adata$et_ts)\n",
    "  mevals3[i,] = F_model_evals(tmp)\n",
    "}\n",
    "# all site\n",
    "  tmp = data.frame(obs = edata$et_ob,\n",
    "                   pre = edata$et_ts)\n",
    "  mevals3[7,] = F_model_evals(tmp)\n",
    "# all savanna sites\n",
    "  data_sub = subset(edata, site == 'asm' | site == 'das' | site == 'dry' | site == 'how')\n",
    "  tmp = data.frame(obs = data_sub$et_ob,\n",
    "                   pre = data_sub$et_ts)\n",
    "  mevals3[8,] = F_model_evals(tmp)\n",
    "# group: pasture sites\n",
    "  data_sub = subset(edata, site == 'dap' | site == 'stp')\n",
    "  tmp = data.frame(obs = data_sub$et_ob,\n",
    "                   pre = data_sub$et_ts)\n",
    "  mevals3[9,] = F_model_evals(tmp)"
   ]
  },
  {
   "cell_type": "code",
   "execution_count": 10,
   "metadata": {},
   "outputs": [],
   "source": [
    "# PML-DI \n",
    "mevals4 = mevals\n",
    "# each site\n",
    "for (i in unique(nsite))\n",
    "{ adata = edata[edata$site == i, ]\n",
    "  tmp = data.frame(obs = adata$et_ob,\n",
    "                   pre = adata$et_pml_di)\n",
    "  mevals4[i,] = F_model_evals(tmp)\n",
    "}\n",
    "# all site\n",
    "  tmp = data.frame(obs = edata$et_ob,\n",
    "                   pre = edata$et_pml_di)\n",
    "  mevals4[7,] = F_model_evals(tmp)\n",
    "# all savanna sites\n",
    "  data_sub = subset(edata, site == 'asm' | site == 'das' | site == 'dry' | site == 'how')\n",
    "  tmp = data.frame(obs = data_sub$et_ob,\n",
    "                   pre = data_sub$et_pml_di)\n",
    "  mevals4[8,] = F_model_evals(tmp)\n",
    "# group: pasture sites\n",
    "  data_sub = subset(edata, site == 'dap' | site == 'stp')\n",
    "  tmp = data.frame(obs = data_sub$et_ob,\n",
    "                   pre = data_sub$et_pml_di)\n",
    "  mevals4[9,] = F_model_evals(tmp)"
   ]
  },
  {
   "cell_type": "code",
   "execution_count": 11,
   "metadata": {},
   "outputs": [],
   "source": [
    "# SW-DI\n",
    "mevals5 = mevals\n",
    "# each site\n",
    "for (i in unique(nsite))\n",
    "{ adata = edata[edata$site == i, ]\n",
    "  tmp = data.frame(obs = adata$et_ob,\n",
    "                   pre = adata$et_sw_di)\n",
    "  mevals5[i,] = F_model_evals(tmp)\n",
    "}\n",
    "# all site\n",
    "  tmp = data.frame(obs = edata$et_ob,\n",
    "                   pre = edata$et_sw_di)\n",
    "  mevals5[7,] = F_model_evals(tmp)\n",
    "# all savanna sites\n",
    "  data_sub = subset(edata, site == 'asm' | site == 'das' | site == 'dry' | site == 'how')\n",
    "  tmp = data.frame(obs = data_sub$et_ob,\n",
    "                   pre = data_sub$et_sw_di)\n",
    "  mevals5[8,] = F_model_evals(tmp)\n",
    "# group: pasture sites\n",
    "  data_sub = subset(edata, site == 'dap' | site == 'stp')\n",
    "  tmp = data.frame(obs = data_sub$et_ob,\n",
    "                   pre = data_sub$et_sw_di)\n",
    "  mevals5[9,] = F_model_evals(tmp)"
   ]
  },
  {
   "cell_type": "code",
   "execution_count": 12,
   "metadata": {},
   "outputs": [],
   "source": [
    "# TS-DI\n",
    "mevals6 = mevals\n",
    "# each site\n",
    "for (i in unique(nsite[1:4]))\n",
    "{ adata = edata[edata$site == i, ]\n",
    "  tmp = data.frame(obs = adata$et_ob,\n",
    "                   pre = adata$et_ts_di)\n",
    "  mevals6[i,] = F_model_evals(tmp)\n",
    "}\n",
    "# all site\n",
    "  tmp = data.frame(obs = edata$et_ob,\n",
    "                   pre = edata$et_ts_di)\n",
    "  mevals6[7,] = F_model_evals(tmp)\n",
    "# all savanna sites\n",
    "  data_sub = subset(edata, site == 'asm' | site == 'das' | site == 'dry' | site == 'how')\n",
    "  tmp = data.frame(obs = data_sub$et_ob,\n",
    "                   pre = data_sub$et_ts_di)\n",
    "  mevals6[8,] = F_model_evals(tmp)\n",
    "# group: pasture sites\n",
    "  data_sub = subset(edata, site == 'dap' | site == 'stp')\n",
    "  tmp = data.frame(obs = data_sub$et_ob,\n",
    "                   pre = data_sub$et_ts_di)\n",
    "  mevals6[9,] = F_model_evals(tmp)"
   ]
  },
  {
   "cell_type": "code",
   "execution_count": 13,
   "metadata": {},
   "outputs": [
    {
     "data": {
      "text/html": [
       "<table>\n",
       "<thead><tr><th></th><th scope=col>r.squared</th><th scope=col>slp</th><th scope=col>itcp</th><th scope=col>rmse</th><th scope=col>num</th><th scope=col>r.squared.1</th><th scope=col>slp.1</th><th scope=col>itcp.1</th><th scope=col>rmse.1</th><th scope=col>num.1</th><th scope=col>...</th><th scope=col>r.squared</th><th scope=col>slp</th><th scope=col>itcp</th><th scope=col>rmse</th><th scope=col>num</th><th scope=col>r.squared.1</th><th scope=col>slp.1</th><th scope=col>itcp.1</th><th scope=col>rmse.1</th><th scope=col>num.1</th></tr></thead>\n",
       "<tbody>\n",
       "\t<tr><th scope=row>how</th><td>0.7958577   </td><td>0.8162904   </td><td>0.5879543   </td><td>0.5615227   </td><td> 3669       </td><td>0.8013075   </td><td>0.8668267   </td><td>0.3584117   </td><td>0.5637301   </td><td> 3669       </td><td>...         </td><td>0.8214373   </td><td>0.9322713   </td><td> 0.207521916</td><td>0.5459282   </td><td> 3669       </td><td>0.8275733   </td><td>0.9027861   </td><td>0.30384886  </td><td>0.5254153   </td><td> 3669       </td></tr>\n",
       "\t<tr><th scope=row>das</th><td>0.7410770   </td><td>0.8265860   </td><td>0.3480796   </td><td>0.5696898   </td><td> 2595       </td><td>0.7637240   </td><td>0.8482716   </td><td>0.3232269   </td><td>0.5428238   </td><td> 2595       </td><td>...         </td><td>0.8155879   </td><td>0.9618133   </td><td> 0.071877018</td><td>0.5021744   </td><td> 2595       </td><td>0.8020961   </td><td>0.9638262   </td><td>0.06391882  </td><td>0.5254353   </td><td> 2595       </td></tr>\n",
       "\t<tr><th scope=row>dry</th><td>0.6228074   </td><td>0.6662150   </td><td>0.7150231   </td><td>0.7321845   </td><td> 1796       </td><td>0.6408714   </td><td>0.7346023   </td><td>0.5935178   </td><td>0.7262077   </td><td> 1796       </td><td>...         </td><td>0.7977947   </td><td>0.9924435   </td><td>-0.003532951</td><td>0.5926179   </td><td> 1796       </td><td>0.7851930   </td><td>0.9515188   </td><td>0.08674892  </td><td>0.5928273   </td><td> 1796       </td></tr>\n",
       "\t<tr><th scope=row>asm</th><td>0.7165555   </td><td>0.6369680   </td><td>0.3777883   </td><td>0.5080478   </td><td> 1451       </td><td>0.7510417   </td><td>0.6751493   </td><td>0.3397468   </td><td>0.4754043   </td><td> 1451       </td><td>...         </td><td>0.8203861   </td><td>0.7864957   </td><td> 0.259026932</td><td>0.4032965   </td><td> 1451       </td><td>0.7906977   </td><td>0.7591729   </td><td>0.27489901  </td><td>0.4320308   </td><td> 1451       </td></tr>\n",
       "\t<tr><th scope=row>dap</th><td>0.8621002   </td><td>0.8173110   </td><td>0.4189516   </td><td>0.6759577   </td><td> 1316       </td><td>0.8765473   </td><td>0.8526618   </td><td>0.3102115   </td><td>0.6331734   </td><td> 1316       </td><td>...         </td><td>0.8846101   </td><td>0.8864531   </td><td> 0.195435127</td><td>0.6103214   </td><td> 1316       </td><td>       NA   </td><td>       NA   </td><td>        NA  </td><td>       NA   </td><td>   NA       </td></tr>\n",
       "\t<tr><th scope=row>stp</th><td>0.7810930   </td><td>0.8336092   </td><td>0.3208188   </td><td>0.6238817   </td><td> 1856       </td><td>0.8747260   </td><td>0.9452160   </td><td>0.2468923   </td><td>0.5035527   </td><td> 1856       </td><td>...         </td><td>0.8681986   </td><td>0.8725030   </td><td> 0.233204917</td><td>0.4786355   </td><td> 1856       </td><td>       NA   </td><td>       NA   </td><td>        NA  </td><td>       NA   </td><td>   NA       </td></tr>\n",
       "\t<tr><th scope=row>all</th><td>0.8319105   </td><td>0.8359424   </td><td>0.3846102   </td><td>0.6061605   </td><td>12683       </td><td>0.8484780   </td><td>0.8629680   </td><td>0.3200063   </td><td>0.5757276   </td><td>12683       </td><td>...         </td><td>0.8756013   </td><td>0.9287600   </td><td> 0.163474069</td><td>0.5275692   </td><td>12683       </td><td>0.8625509   </td><td>0.9120334   </td><td>0.21184817  </td><td>0.5534657   </td><td>12683       </td></tr>\n",
       "\t<tr><th scope=row>savanna</th><td>0.8225526   </td><td>0.8343019   </td><td>0.4017120   </td><td>0.5922792   </td><td> 9511       </td><td>0.8299718   </td><td>0.8543754   </td><td>0.3359458   </td><td>0.5805638   </td><td> 9511       </td><td>...         </td><td>0.8677231   </td><td>0.9455522   </td><td> 0.132763255</td><td>0.5243172   </td><td> 9511       </td><td>0.8648605   </td><td>0.9306023   </td><td>0.16913400  </td><td>0.5259861   </td><td> 9511       </td></tr>\n",
       "\t<tr><th scope=row>pasture</th><td>0.8291108   </td><td>0.8279928   </td><td>0.3576646   </td><td>0.6459968   </td><td> 3172       </td><td>0.8744788   </td><td>0.8878735   </td><td>0.2922700   </td><td>0.5609769   </td><td> 3172       </td><td>...         </td><td>0.8801966   </td><td>0.8796917   </td><td> 0.217001870</td><td>0.5372019   </td><td> 3172       </td><td>0.8384082   </td><td>0.8656845   </td><td>0.28452041  </td><td>0.6287022   </td><td> 3172       </td></tr>\n",
       "</tbody>\n",
       "</table>\n"
      ],
      "text/latex": [
       "\\begin{tabular}{r|llllllllllllllllllllllllllllll}\n",
       "  & r.squared & slp & itcp & rmse & num & r.squared.1 & slp.1 & itcp.1 & rmse.1 & num.1 & ... & r.squared & slp & itcp & rmse & num & r.squared.1 & slp.1 & itcp.1 & rmse.1 & num.1\\\\\n",
       "\\hline\n",
       "\thow & 0.7958577    & 0.8162904    & 0.5879543    & 0.5615227    &  3669        & 0.8013075    & 0.8668267    & 0.3584117    & 0.5637301    &  3669        & ...          & 0.8214373    & 0.9322713    &  0.207521916 & 0.5459282    &  3669        & 0.8275733    & 0.9027861    & 0.30384886   & 0.5254153    &  3669       \\\\\n",
       "\tdas & 0.7410770    & 0.8265860    & 0.3480796    & 0.5696898    &  2595        & 0.7637240    & 0.8482716    & 0.3232269    & 0.5428238    &  2595        & ...          & 0.8155879    & 0.9618133    &  0.071877018 & 0.5021744    &  2595        & 0.8020961    & 0.9638262    & 0.06391882   & 0.5254353    &  2595       \\\\\n",
       "\tdry & 0.6228074    & 0.6662150    & 0.7150231    & 0.7321845    &  1796        & 0.6408714    & 0.7346023    & 0.5935178    & 0.7262077    &  1796        & ...          & 0.7977947    & 0.9924435    & -0.003532951 & 0.5926179    &  1796        & 0.7851930    & 0.9515188    & 0.08674892   & 0.5928273    &  1796       \\\\\n",
       "\tasm & 0.7165555    & 0.6369680    & 0.3777883    & 0.5080478    &  1451        & 0.7510417    & 0.6751493    & 0.3397468    & 0.4754043    &  1451        & ...          & 0.8203861    & 0.7864957    &  0.259026932 & 0.4032965    &  1451        & 0.7906977    & 0.7591729    & 0.27489901   & 0.4320308    &  1451       \\\\\n",
       "\tdap & 0.8621002    & 0.8173110    & 0.4189516    & 0.6759577    &  1316        & 0.8765473    & 0.8526618    & 0.3102115    & 0.6331734    &  1316        & ...          & 0.8846101    & 0.8864531    &  0.195435127 & 0.6103214    &  1316        &        NA    &        NA    &         NA   &        NA    &    NA       \\\\\n",
       "\tstp & 0.7810930    & 0.8336092    & 0.3208188    & 0.6238817    &  1856        & 0.8747260    & 0.9452160    & 0.2468923    & 0.5035527    &  1856        & ...          & 0.8681986    & 0.8725030    &  0.233204917 & 0.4786355    &  1856        &        NA    &        NA    &         NA   &        NA    &    NA       \\\\\n",
       "\tall & 0.8319105    & 0.8359424    & 0.3846102    & 0.6061605    & 12683        & 0.8484780    & 0.8629680    & 0.3200063    & 0.5757276    & 12683        & ...          & 0.8756013    & 0.9287600    &  0.163474069 & 0.5275692    & 12683        & 0.8625509    & 0.9120334    & 0.21184817   & 0.5534657    & 12683       \\\\\n",
       "\tsavanna & 0.8225526    & 0.8343019    & 0.4017120    & 0.5922792    &  9511        & 0.8299718    & 0.8543754    & 0.3359458    & 0.5805638    &  9511        & ...          & 0.8677231    & 0.9455522    &  0.132763255 & 0.5243172    &  9511        & 0.8648605    & 0.9306023    & 0.16913400   & 0.5259861    &  9511       \\\\\n",
       "\tpasture & 0.8291108    & 0.8279928    & 0.3576646    & 0.6459968    &  3172        & 0.8744788    & 0.8878735    & 0.2922700    & 0.5609769    &  3172        & ...          & 0.8801966    & 0.8796917    &  0.217001870 & 0.5372019    &  3172        & 0.8384082    & 0.8656845    & 0.28452041   & 0.6287022    &  3172       \\\\\n",
       "\\end{tabular}\n"
      ],
      "text/markdown": [
       "\n",
       "| <!--/--> | r.squared | slp | itcp | rmse | num | r.squared.1 | slp.1 | itcp.1 | rmse.1 | num.1 | ... | r.squared | slp | itcp | rmse | num | r.squared.1 | slp.1 | itcp.1 | rmse.1 | num.1 | \n",
       "|---|---|---|---|---|---|---|---|---|\n",
       "| how | 0.7958577    | 0.8162904    | 0.5879543    | 0.5615227    |  3669        | 0.8013075    | 0.8668267    | 0.3584117    | 0.5637301    |  3669        | ...          | 0.8214373    | 0.9322713    |  0.207521916 | 0.5459282    |  3669        | 0.8275733    | 0.9027861    | 0.30384886   | 0.5254153    |  3669        | \n",
       "| das | 0.7410770    | 0.8265860    | 0.3480796    | 0.5696898    |  2595        | 0.7637240    | 0.8482716    | 0.3232269    | 0.5428238    |  2595        | ...          | 0.8155879    | 0.9618133    |  0.071877018 | 0.5021744    |  2595        | 0.8020961    | 0.9638262    | 0.06391882   | 0.5254353    |  2595        | \n",
       "| dry | 0.6228074    | 0.6662150    | 0.7150231    | 0.7321845    |  1796        | 0.6408714    | 0.7346023    | 0.5935178    | 0.7262077    |  1796        | ...          | 0.7977947    | 0.9924435    | -0.003532951 | 0.5926179    |  1796        | 0.7851930    | 0.9515188    | 0.08674892   | 0.5928273    |  1796        | \n",
       "| asm | 0.7165555    | 0.6369680    | 0.3777883    | 0.5080478    |  1451        | 0.7510417    | 0.6751493    | 0.3397468    | 0.4754043    |  1451        | ...          | 0.8203861    | 0.7864957    |  0.259026932 | 0.4032965    |  1451        | 0.7906977    | 0.7591729    | 0.27489901   | 0.4320308    |  1451        | \n",
       "| dap | 0.8621002    | 0.8173110    | 0.4189516    | 0.6759577    |  1316        | 0.8765473    | 0.8526618    | 0.3102115    | 0.6331734    |  1316        | ...          | 0.8846101    | 0.8864531    |  0.195435127 | 0.6103214    |  1316        |        NA    |        NA    |         NA   |        NA    |    NA        | \n",
       "| stp | 0.7810930    | 0.8336092    | 0.3208188    | 0.6238817    |  1856        | 0.8747260    | 0.9452160    | 0.2468923    | 0.5035527    |  1856        | ...          | 0.8681986    | 0.8725030    |  0.233204917 | 0.4786355    |  1856        |        NA    |        NA    |         NA   |        NA    |    NA        | \n",
       "| all | 0.8319105    | 0.8359424    | 0.3846102    | 0.6061605    | 12683        | 0.8484780    | 0.8629680    | 0.3200063    | 0.5757276    | 12683        | ...          | 0.8756013    | 0.9287600    |  0.163474069 | 0.5275692    | 12683        | 0.8625509    | 0.9120334    | 0.21184817   | 0.5534657    | 12683        | \n",
       "| savanna | 0.8225526    | 0.8343019    | 0.4017120    | 0.5922792    |  9511        | 0.8299718    | 0.8543754    | 0.3359458    | 0.5805638    |  9511        | ...          | 0.8677231    | 0.9455522    |  0.132763255 | 0.5243172    |  9511        | 0.8648605    | 0.9306023    | 0.16913400   | 0.5259861    |  9511        | \n",
       "| pasture | 0.8291108    | 0.8279928    | 0.3576646    | 0.6459968    |  3172        | 0.8744788    | 0.8878735    | 0.2922700    | 0.5609769    |  3172        | ...          | 0.8801966    | 0.8796917    |  0.217001870 | 0.5372019    |  3172        | 0.8384082    | 0.8656845    | 0.28452041   | 0.6287022    |  3172        | \n",
       "\n",
       "\n"
      ],
      "text/plain": [
       "        r.squared slp       itcp      rmse      num   r.squared.1 slp.1    \n",
       "how     0.7958577 0.8162904 0.5879543 0.5615227  3669 0.8013075   0.8668267\n",
       "das     0.7410770 0.8265860 0.3480796 0.5696898  2595 0.7637240   0.8482716\n",
       "dry     0.6228074 0.6662150 0.7150231 0.7321845  1796 0.6408714   0.7346023\n",
       "asm     0.7165555 0.6369680 0.3777883 0.5080478  1451 0.7510417   0.6751493\n",
       "dap     0.8621002 0.8173110 0.4189516 0.6759577  1316 0.8765473   0.8526618\n",
       "stp     0.7810930 0.8336092 0.3208188 0.6238817  1856 0.8747260   0.9452160\n",
       "all     0.8319105 0.8359424 0.3846102 0.6061605 12683 0.8484780   0.8629680\n",
       "savanna 0.8225526 0.8343019 0.4017120 0.5922792  9511 0.8299718   0.8543754\n",
       "pasture 0.8291108 0.8279928 0.3576646 0.6459968  3172 0.8744788   0.8878735\n",
       "        itcp.1    rmse.1    num.1 ... r.squared slp       itcp        \n",
       "how     0.3584117 0.5637301  3669 ... 0.8214373 0.9322713  0.207521916\n",
       "das     0.3232269 0.5428238  2595 ... 0.8155879 0.9618133  0.071877018\n",
       "dry     0.5935178 0.7262077  1796 ... 0.7977947 0.9924435 -0.003532951\n",
       "asm     0.3397468 0.4754043  1451 ... 0.8203861 0.7864957  0.259026932\n",
       "dap     0.3102115 0.6331734  1316 ... 0.8846101 0.8864531  0.195435127\n",
       "stp     0.2468923 0.5035527  1856 ... 0.8681986 0.8725030  0.233204917\n",
       "all     0.3200063 0.5757276 12683 ... 0.8756013 0.9287600  0.163474069\n",
       "savanna 0.3359458 0.5805638  9511 ... 0.8677231 0.9455522  0.132763255\n",
       "pasture 0.2922700 0.5609769  3172 ... 0.8801966 0.8796917  0.217001870\n",
       "        rmse      num   r.squared.1 slp.1     itcp.1     rmse.1    num.1\n",
       "how     0.5459282  3669 0.8275733   0.9027861 0.30384886 0.5254153  3669\n",
       "das     0.5021744  2595 0.8020961   0.9638262 0.06391882 0.5254353  2595\n",
       "dry     0.5926179  1796 0.7851930   0.9515188 0.08674892 0.5928273  1796\n",
       "asm     0.4032965  1451 0.7906977   0.7591729 0.27489901 0.4320308  1451\n",
       "dap     0.6103214  1316        NA          NA         NA        NA    NA\n",
       "stp     0.4786355  1856        NA          NA         NA        NA    NA\n",
       "all     0.5275692 12683 0.8625509   0.9120334 0.21184817 0.5534657 12683\n",
       "savanna 0.5243172  9511 0.8648605   0.9306023 0.16913400 0.5259861  9511\n",
       "pasture 0.5372019  3172 0.8384082   0.8656845 0.28452041 0.6287022  3172"
      ]
     },
     "metadata": {},
     "output_type": "display_data"
    }
   ],
   "source": [
    "mevalscom <- cbind(mevals2, mevals1, mevals3, mevals5, mevals4,  mevals6)\n",
    "#rownames(mevalscom) = c(nsite, 'allsite', 'savannas', 'pasture_grassland')\n",
    "mevalscom"
   ]
  },
  {
   "cell_type": "code",
   "execution_count": 14,
   "metadata": {},
   "outputs": [],
   "source": [
    "write.csv(mevalscom, file= 'table_3_model_evaluation_DIs.csv')"
   ]
  }
 ],
 "metadata": {
  "kernelspec": {
   "display_name": "R",
   "language": "R",
   "name": "ir"
  },
  "language_info": {
   "codemirror_mode": "r",
   "file_extension": ".r",
   "mimetype": "text/x-r-source",
   "name": "R",
   "pygments_lexer": "r",
   "version": "3.5.1"
  }
 },
 "nbformat": 4,
 "nbformat_minor": 2
}
